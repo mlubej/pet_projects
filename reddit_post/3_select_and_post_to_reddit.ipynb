{
 "cells": [
  {
   "cell_type": "code",
   "execution_count": 60,
   "id": "dc3c8cb8-9749-4300-b04b-b148b57dcffc",
   "metadata": {},
   "outputs": [],
   "source": [
    "import numpy as np\n",
    "import pandas as pd\n",
    "from tqdm.auto import tqdm\n",
    "\n",
    "import json\n",
    "import praw\n",
    "import requests\n",
    "import subprocess\n",
    "\n",
    "from praw.models import InlineGif, InlineImage, InlineVideo"
   ]
  },
  {
   "cell_type": "code",
   "execution_count": 38,
   "id": "c021ac6a-e232-4ded-bf28-5e4d62d3debf",
   "metadata": {},
   "outputs": [],
   "source": [
    "result = pd.read_pickle('./2_post_content.pkl')"
   ]
  },
  {
   "cell_type": "code",
   "execution_count": 69,
   "id": "d46c2d67-1859-45d1-8170-301712392f62",
   "metadata": {},
   "outputs": [],
   "source": [
    "c1 = (~result['author'].isna())\n",
    "c2 = (~result['style'].isna())\n",
    "c3 = (result['comment_count'] == 0)\n",
    "c4 = np.array([int(x[1:-1].split('x')[0]) > 6000 for x in result.original_size.values])\n",
    "c5 = (~result['eobrowser_link'].isna())\n",
    "c6 = np.array([len(x) > 0 for x in result.dates])\n",
    "\n",
    "cuts = c1 & c2 & c3 & c4 & c5 & c6\n",
    "selection = result[cuts].sort_values('view_count', ascending=False).to_dict(orient='records')"
   ]
  },
  {
   "cell_type": "code",
   "execution_count": 16,
   "id": "be1fc7b6-3a41-4678-ab03-a16d5a99edc9",
   "metadata": {},
   "outputs": [],
   "source": [
    "subr = 'EarthFromAbove'\n",
    "credentials = 'client_secrets.json'\n",
    " \n",
    "with open(credentials) as f:\n",
    "    creds = json.load(f)"
   ]
  },
  {
   "cell_type": "code",
   "execution_count": 17,
   "id": "cde197b2-0e81-47b4-a86f-cfd7a9beead9",
   "metadata": {},
   "outputs": [],
   "source": [
    "reddit = praw.Reddit(client_id=creds['client_id'],\n",
    "                     client_secret=creds['client_secret'],\n",
    "                     user_agent=creds['user_agent'],\n",
    "                     redirect_uri=creds['redirect_uri'],\n",
    "                     refresh_token=creds['refresh_token'])\n",
    " \n",
    "reddit.validate_on_submit = True\n",
    "subreddit = reddit.subreddit(subr) "
   ]
  },
  {
   "cell_type": "code",
   "execution_count": 75,
   "id": "7961d77a-7808-4d85-be87-9043dae212b4",
   "metadata": {},
   "outputs": [],
   "source": [
    "def reddit_post(sel):\n",
    "    title = f'{sel[\"title\"]} {sel[\"image_size\"]} [OC]'\n",
    "\n",
    "    description = f'Location: {sel[\"title\"]}\\n\\n' \\\n",
    "    f'{\"Date: \" + sel[\"dates\"][0] if len(sel[\"dates\"]) == 1 else \"Time-range: \" + \" - \".join(sel[\"dates\"])}\\n\\n' \\\n",
    "    f'Data: {sel[\"style\"]}\\n\\n' \\\n",
    "    'Contains modified Copernicus Sentinel data, processed by [Sentinel Hub](https://www.sentinel-hub.com/)\\n\\n' \\\n",
    "    f'[Link to original resolution {sel[\"original_size\"]}]({sel[\"page_url\"]}/sizes/)\\n\\n' \\\n",
    "    f'[Inspect in EO Browser]({sel[\"eobrowser_link\"]})\\n\\n'\n",
    "\n",
    "    subprocess.call(f'wget {sel[\"dl_link\"]} -O ./images/{sel[\"entry_id\"]}.png', shell=True)\n",
    "\n",
    "    submission = subreddit.submit_image(title, image_path=f'/home/mlubej/play/pet_projects/reddit_post/images/{sel[\"entry_id\"]}.png')\n",
    "    comment = submission.reply(description)"
   ]
  },
  {
   "cell_type": "code",
   "execution_count": 79,
   "id": "84d09936-c784-4505-9671-1da540a0c59f",
   "metadata": {},
   "outputs": [],
   "source": [
    "for i in range(11, 21):\n",
    "    try:\n",
    "        reddit_post(selection[i])\n",
    "    except:\n",
    "        print('failed for', i)"
   ]
  },
  {
   "cell_type": "code",
   "execution_count": null,
   "id": "c562439c-9818-44b3-ae26-21af3c358cac",
   "metadata": {},
   "outputs": [],
   "source": []
  }
 ],
 "metadata": {
  "kernelspec": {
   "display_name": "Python 3",
   "language": "python",
   "name": "python3"
  },
  "language_info": {
   "codemirror_mode": {
    "name": "ipython",
    "version": 3
   },
   "file_extension": ".py",
   "mimetype": "text/x-python",
   "name": "python",
   "nbconvert_exporter": "python",
   "pygments_lexer": "ipython3",
   "version": "3.8.6"
  }
 },
 "nbformat": 4,
 "nbformat_minor": 5
}
