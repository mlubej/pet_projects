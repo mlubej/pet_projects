{
 "cells": [
  {
   "cell_type": "code",
   "execution_count": 98,
   "id": "dc3c8cb8-9749-4300-b04b-b148b57dcffc",
   "metadata": {},
   "outputs": [],
   "source": [
    "from selenium import webdriver\n",
    "from selenium.webdriver.firefox.options import Options as FirefoxOptions\n",
    "from selenium.webdriver.support.ui import WebDriverWait\n",
    "from selenium.common.exceptions import TimeoutException\n",
    "\n",
    "from bs4 import BeautifulSoup\n",
    "\n",
    "import time\n",
    "import numpy as np\n",
    "import pandas as pd\n",
    "\n",
    "# configure Firefox Driver\n",
    "def configure_firefox_driver():\n",
    "    # Add additional Options to the webdriver\n",
    "    firefox_options = FirefoxOptions()\n",
    "    # add the argument and make the browser Headless.\n",
    "    firefox_options.add_argument(\"--headless\")\n",
    "\n",
    "    # Instantiate the Webdriver: Mention the executable path of the webdriver you have downloaded\n",
    "    # if driver is in PATH, no need to provide executable_path\n",
    "    driver = webdriver.Firefox(executable_path = \"./geckodriver\", options = firefox_options)\n",
    "    return driver"
   ]
  },
  {
   "cell_type": "code",
   "execution_count": 73,
   "id": "f9304cbe-a0dd-416f-adf0-d33cfc1fdabb",
   "metadata": {},
   "outputs": [],
   "source": [
    "driver = configure_firefox_driver()"
   ]
  },
  {
   "cell_type": "code",
   "execution_count": 76,
   "id": "b5e6e65c-642a-45b1-b9c8-29c6d7d3fff4",
   "metadata": {},
   "outputs": [
    {
     "name": "stdout",
     "output_type": "stream",
     "text": [
      "https://www.flickr.com/photos/sentinelhub/\n",
      "https://www.flickr.com/photos/sentinelhub/page2\n",
      "https://www.flickr.com/photos/sentinelhub/page3\n",
      "https://www.flickr.com/photos/sentinelhub/page4\n"
     ]
    }
   ],
   "source": [
    "SCROLL_PAUSE_TIME = 5\n",
    "base_url = 'https://www.flickr.com/photos/sentinelhub/'\n",
    "\n",
    "next_page = ''\n",
    "soup_list = []\n",
    "\n",
    "last_page = False\n",
    "while not last_page:\n",
    "    print(\"Scraping: \" base_url+next_page)\n",
    "    driver.get(base_url+next_page)\n",
    "    \n",
    "    # Get scroll height\n",
    "    last_height = driver.execute_script(\"return document.body.scrollHeight\")\n",
    "    \n",
    "    end_of_page = False\n",
    "    while not end_of_page:\n",
    "        # Scroll down to bottom\n",
    "        driver.execute_script(\"window.scrollTo(0, document.body.scrollHeight);\")\n",
    "\n",
    "        # Wait to load page\n",
    "        time.sleep(SCROLL_PAUSE_TIME)\n",
    "\n",
    "        # Calculate new scroll height and compare with last scroll height\n",
    "        new_height = driver.execute_script(\"return document.body.scrollHeight\")\n",
    "        if new_height == last_height:\n",
    "            end_of_page = True            \n",
    "            break\n",
    "        last_height = new_height\n",
    "        \n",
    "    soup = BeautifulSoup(driver.page_source, \"lxml\")\n",
    "    soup_list.append(soup)\n",
    "    \n",
    "    next_page = soup.find('a', {\"data-track\": \"paginationRightClick\", \"rel\": \"next\"})\n",
    "    if next_page is not None:\n",
    "        next_page = next_page['href'].rstrip('/').split('/')[-1]\n",
    "    else:\n",
    "        last_page=True"
   ]
  },
  {
   "cell_type": "code",
   "execution_count": 100,
   "id": "f77007b7-ccc1-4d8d-92a2-907572882969",
   "metadata": {},
   "outputs": [],
   "source": [
    "entry_ids = np.unique([int(entry['href'].rstrip('/').split('/')[-1]) for soup in soup_list for entry in soup.find_all('a', {\"class\": 'overlay'})])\n",
    "df = pd.DataFrame(dict(entry_id = entry_ids))\n",
    "\n",
    "df.to_csv('1_entry_ids.csv', index=False)"
   ]
  },
  {
   "cell_type": "code",
   "execution_count": null,
   "id": "d492a540-e9ac-47eb-9d02-d1347566beab",
   "metadata": {},
   "outputs": [],
   "source": []
  }
 ],
 "metadata": {
  "kernelspec": {
   "display_name": "Python 3",
   "language": "python",
   "name": "python3"
  },
  "language_info": {
   "codemirror_mode": {
    "name": "ipython",
    "version": 3
   },
   "file_extension": ".py",
   "mimetype": "text/x-python",
   "name": "python",
   "nbconvert_exporter": "python",
   "pygments_lexer": "ipython3",
   "version": "3.8.6"
  }
 },
 "nbformat": 4,
 "nbformat_minor": 5
}
