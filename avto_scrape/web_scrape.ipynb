{
 "cells": [
  {
   "cell_type": "code",
   "execution_count": 1,
   "metadata": {},
   "outputs": [],
   "source": [
    "import requests\n",
    "import urllib.request\n",
    "import time\n",
    "from bs4 import BeautifulSoup\n",
    "import numpy as np\n",
    "import re\n",
    "import matplotlib.pyplot as plt\n",
    "\n",
    "from sklearn.model_selection import train_test_split\n",
    "from sklearn.metrics import mean_squared_error\n",
    "from sklearn.model_selection import GridSearchCV"
   ]
  },
  {
   "cell_type": "code",
   "execution_count": 2,
   "metadata": {},
   "outputs": [],
   "source": [
    "#url_list = [f'https://www.avto.net/Ads/results.asp?znamka=&model=&modelID=&tip=katerikoli%20tip&znamka2=&model2=&tip2=katerikoli%20tip&znamka3=&model3=&tip3=katerikoli%20tip&cenaMin=0&cenaMax=999999&letnikMin=2000&letnikMax=2090&bencin=201&starost2=999&oblika=0&ccmMin=0&ccmMax=99999&mocMin=&mocMax=&kmMin=0&kmMax=9999999&kwMin=0&kwMax=999&motortakt=&motorvalji=&lokacija=0&sirina=&dolzina=&dolzinaMIN=&dolzinaMAX=&nosilnostMIN=&nosilnostMAX=&lezisc=&presek=&premer=&col=&vijakov=&EToznaka=&vozilo=&airbag=&barva=&barvaint=&EQ1=1000000000&EQ2=1000000000&EQ3=1000000000&EQ4=100000000&EQ5=1000000000&EQ6=1000000000&EQ7=1000100120&EQ8=1010000001&EQ9=100000000&KAT=1010000000&PIA=&PIAzero=&PSLO=&akcija=&paketgarancije=&broker=&prikazkategorije=&kategorija=&zaloga=&arhiv=&presort=&tipsort=&stran={i}' for i in range(1,22)]\n",
    "url_list = [f'https://www.avto.net/Ads/results.asp?znamka=Citroen&model=Xsara%20Picasso&modelID=&tip=katerikoli%20tip&znamka2=&model2=&tip2=katerikoli%20tip&znamka3=&model3=&tip3=katerikoli%20tip&cenaMin=0&cenaMax=999999&letnikMin=2000&letnikMax=2090&bencin=202&starost2=999&oblika=0&ccmMin=0&ccmMax=99999&mocMin=&mocMax=&kmMin=0&kmMax=9999999&kwMin=0&kwMax=999&motortakt=&motorvalji=&lokacija=0&sirina=&dolzina=&dolzinaMIN=&dolzinaMAX=&nosilnostMIN=&nosilnostMAX=&lezisc=&presek=&premer=&col=&vijakov=&EToznaka=&vozilo=&airbag=&barva=&barvaint=&EQ1=1000000000&EQ2=1000000000&EQ3=1000000000&EQ4=100000000&EQ5=1000000000&EQ6=1000000000&EQ7=1000100120&EQ8=1010000001&EQ9=100000000&KAT=1010000000&PIA=&PIAzero=&PSLO=&akcija=&paketgarancije=&broker=&prikazkategorije=&kategorija=&zaloga=&arhiv=&presort=&tipsort=&stran={i}' for i in range(1,22)]"
   ]
  },
  {
   "cell_type": "code",
   "execution_count": 3,
   "metadata": {},
   "outputs": [],
   "source": [
    "headers = {\n",
    "    'User-Agent': '*',\n",
    "    'Accept': 'text/html,application/xhtml+xml,application/xml;q=0.9,*/*;q=0.8',\n",
    "    'Accept-Language': 'en-US,en;q=0.5',\n",
    "    'Accept-Encoding': 'gzip, deflate',\n",
    "    'Connection': 'keep-alive',\n",
    "    'Upgrade-Insecure-Requests': '1',\n",
    "}\n",
    "\n",
    "s = requests.Session()\n",
    "s.headers.update(headers)\n",
    "\n",
    "request_list = [s.get(url_list[i],allow_redirects=False) for i in range(len(url_list))]\n",
    "request_list = np.hstack(request_list)"
   ]
  },
  {
   "cell_type": "code",
   "execution_count": 8,
   "metadata": {},
   "outputs": [],
   "source": [
    "ci = []\n",
    "cif = []\n",
    "\n",
    "for r in request_list:\n",
    "    soup = BeautifulSoup(r.text, 'html.parser')\n",
    "    car_list = [\n",
    "        x for x in soup.find_all('div') if str(x).startswith('<div class=\"Res') and \n",
    "        'FOTO' in str(x) and \n",
    "        'DATA' in str(x) and\n",
    "        'CENA' in str(x)            \n",
    "    ]\n",
    "    for car in car_list:\n",
    "        try:\n",
    "            url = 'https://www.avto.net/' + re.findall(r'a class=\"Adlink\" href=\\\"([\\S  ]*)\\\"', str(car))[0][3:]\n",
    "            name = re.findall(f'title=\\\"([\\S  ]*)\\\"/>', str(car))[0]\n",
    "            year, mileage, volume, power, torque = [int(x) for x in re.findall(f'<li>Letnik 1.registracije:([\\w]*)</li>\\n<li>([\\w]*) km</li><li>diesel motor, ([\\w]*) ccm, ([\\w]*) kW  / ([\\w]*) KM</li>', str(car))[0]]\n",
    "            price = int(re.findall(f'EUR=([\\w]*)', str(car))[0])\n",
    "            ci.append([name, year, mileage, volume, power, torque, price, url])\n",
    "        except:\n",
    "            cif.append(car)\n",
    "            \n",
    "ci = np.array(ci)\n",
    "cif = np.array(cif)"
   ]
  },
  {
   "cell_type": "raw",
   "metadata": {},
   "source": [
    "mask  = (ci[:,3].astype(int) > 900) & (ci[:,3].astype(int) < 2000)\n",
    "mask &= (ci[:, -2].astype(int) > 0) & (ci[:, -2].astype(int) < 25000)\n",
    "mask &= (ci[:, 2].astype(int) < 400000)"
   ]
  },
  {
   "cell_type": "code",
   "execution_count": 13,
   "metadata": {},
   "outputs": [],
   "source": [
    "train, test = train_test_split(ci, shuffle=True, test_size=0.2)"
   ]
  },
  {
   "cell_type": "code",
   "execution_count": 14,
   "metadata": {},
   "outputs": [
    {
     "data": {
      "text/plain": [
       "{'learning_rate': 0.1, 'max_depth': 3, 'n_estimators': 200, 'num_leaves': 5}"
      ]
     },
     "execution_count": 14,
     "metadata": {},
     "output_type": "execute_result"
    }
   ],
   "source": [
    "import lightgbm as lgbm\n",
    "lgbm_classifier = lgbm.LGBMRegressor()\n",
    "\n",
    "\n",
    "distributions = dict(\n",
    "    num_leaves = [5,10,20,30,50],\n",
    "    max_depth = [-1,1,2,3,4,5,6],\n",
    "    learning_rate = [0.005, 0.001, 0.05, 0.01, 0.1, 0.5],\n",
    "    n_estimators = [20,30,50,100,200,300,500]\n",
    ")\n",
    "\n",
    "\n",
    "clf = GridSearchCV(lgbm_classifier, distributions)\n",
    "search = clf.fit(train[:,1:-2].astype(int), train[:,-2].astype(int))\n",
    "search.best_params_"
   ]
  },
  {
   "cell_type": "code",
   "execution_count": 18,
   "metadata": {},
   "outputs": [],
   "source": [
    "model = search.best_estimator_"
   ]
  },
  {
   "cell_type": "code",
   "execution_count": 19,
   "metadata": {},
   "outputs": [
    {
     "data": {
      "text/plain": [
       "array([1249.04650523])"
      ]
     },
     "execution_count": 19,
     "metadata": {},
     "output_type": "execute_result"
    }
   ],
   "source": [
    "model.predict([[2003,220000,2000,66,90]])"
   ]
  },
  {
   "cell_type": "code",
   "execution_count": 45,
   "metadata": {},
   "outputs": [
    {
     "name": "stdout",
     "output_type": "stream",
     "text": [
      "7200 https://www.avto.net/Ads/details.asp?id=14932990&amp;display=Fiat 500 1.2 8V Sport\n",
      "6850 https://www.avto.net/Ads/details.asp?id=15062427&amp;display=koda Rapid Spaceback 1.2 TSI Active Red...\n",
      "7350 https://www.avto.net/Ads/details.asp?id=15061878&amp;display=Seat Ibiza ST 1.4 16V Jubilee Style\n",
      "7990 https://www.avto.net/Ads/details.asp?id=15061550&amp;display=Renault Clio 1.2 16V Techno Feel-SLOVENS...\n",
      "8290 https://www.avto.net/Ads/details.asp?id=15059857&amp;display=Kia Rio 1.2 EX FUN\n",
      "8800 https://www.avto.net/Ads/details.asp?id=15059060&amp;display=Mazda Mazda2 G90 Challenge\n",
      "7599 https://www.avto.net/Ads/details.asp?id=15059054&amp;display=Renault Clio 1.2 16V Techno Feel SLO RED...\n",
      "8990 https://www.avto.net/Ads/details.asp?id=15058928&amp;display=Kia Pro_CeeD 1.4 CVVT LX Fun+\n",
      "6490 https://www.avto.net/Ads/details.asp?id=15058830&amp;display=Peugeot 208 1.2 VTi PureTech Access\n"
     ]
    }
   ],
   "source": [
    "mask  = (ci[:,1].astype(int) == 2015)\n",
    "mask &= (ci[:,2].astype(int) > 40000) & (ci[:,2].astype(int) < 70000)\n",
    "mask &= (ci[:,3].astype(int) > 1000) & (ci[:,3].astype(int) < 2000)\n",
    "mask &= (ci[:,-2].astype(int) > 6000) & (ci[:,-2].astype(int) < 9000)\n",
    "\n",
    "for info in ci[mask]:\n",
    "    print(info[-2], info[-1])"
   ]
  },
  {
   "cell_type": "code",
   "execution_count": null,
   "metadata": {},
   "outputs": [],
   "source": []
  }
 ],
 "metadata": {
  "kernelspec": {
   "display_name": "Python 3",
   "language": "python",
   "name": "python3"
  },
  "language_info": {
   "codemirror_mode": {
    "name": "ipython",
    "version": 3
   },
   "file_extension": ".py",
   "mimetype": "text/x-python",
   "name": "python",
   "nbconvert_exporter": "python",
   "pygments_lexer": "ipython3",
   "version": "3.7.6"
  }
 },
 "nbformat": 4,
 "nbformat_minor": 4
}
