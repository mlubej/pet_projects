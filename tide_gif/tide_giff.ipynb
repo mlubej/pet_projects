{
 "cells": [
  {
   "cell_type": "code",
   "execution_count": 1,
   "metadata": {},
   "outputs": [],
   "source": [
    "%load_ext autoreload\n",
    "%autoreload 2"
   ]
  },
  {
   "cell_type": "code",
   "execution_count": 2,
   "metadata": {},
   "outputs": [
    {
     "name": "stderr",
     "output_type": "stream",
     "text": [
      "/home/ubuntu/.pyenv/versions/3.7.6/envs/base/lib/python3.7/site-packages/bolt/utils.py:3: DeprecationWarning: Using or importing the ABCs from 'collections' instead of from 'collections.abc' is deprecated since Python 3.3,and in 3.9 it will stop working\n",
      "  from collections import Iterable\n",
      "/home/ubuntu/.pyenv/versions/3.7.6/envs/base/lib/python3.7/site-packages/bolt/factory.py:17: DeprecationWarning: inspect.getargspec() is deprecated since Python 3.0, use inspect.signature() or inspect.getfullargspec()\n",
      "  args = inspect.getargspec(func)\n"
     ]
    }
   ],
   "source": [
    "import os\n",
    "import imageio\n",
    "import utm\n",
    "import numpy as np\n",
    "import numpy.ma as ma\n",
    "from tqdm.auto import tqdm\n",
    "from concurrent.futures import ProcessPoolExecutor\n",
    "from datetime import datetime, timedelta\n",
    "import matplotlib.pyplot as plt\n",
    "import pandas as pd \n",
    "import geopandas as gpd\n",
    "import rasterio\n",
    "\n",
    "from eolearn.core import FeatureType, LinearWorkflow, EOExecutor, EOTask, EOPatch, SaveTask, LoadTask, OverwritePermission, ExtractBandsTask, RemoveFeature\n",
    "from eolearn.mask import AddValidDataMaskTask, AddMultiCloudMaskTask\n",
    "from eolearn.io import SentinelHubInputTask, ExportToTiff\n",
    "from eolearn.coregistration import ThunderRegistration\n",
    "from eolearn.features import NormalizedDifferenceIndexTask, SimpleFilterTask\n",
    "\n",
    "from sentinelhub import DataSource, BBox, CRS, UtmZoneSplitter\n",
    "\n",
    "\n",
    "from skimage.morphology import disk, binary_dilation\n",
    "from skimage.filters import threshold_otsu, gaussian\n",
    "from skimage.feature import canny"
   ]
  },
  {
   "cell_type": "markdown",
   "metadata": {},
   "source": [
    "# Task definitions"
   ]
  },
  {
   "cell_type": "code",
   "execution_count": 3,
   "metadata": {},
   "outputs": [],
   "source": [
    "class ValidData:\n",
    "    def __init__(self, is_data_mask, clm_mask):\n",
    "        self.is_data_mask = is_data_mask\n",
    "        self.clm_mask = clm_mask\n",
    "        \n",
    "    def __call__(self, eopatch):\n",
    "        return np.logical_and(eopatch.mask[self.is_data_mask].astype(np.bool),\n",
    "                              np.logical_not(eopatch.mask[self.clm_mask].astype(np.bool)))\n",
    "    \n",
    "\n",
    "class ValidCoverageTask(EOTask):\n",
    "    def __init__(self, feature_in, feature_out):\n",
    "        self.feature_in = feature_in\n",
    "        self.feature_out = feature_out\n",
    "        \n",
    "    def execute(self, eopatch):\n",
    "        mask = eopatch[self.feature_in]\n",
    "        coverage = np.count_nonzero(mask == 1, axis=(1,2))/np.prod(mask.shape[1:])\n",
    "        eopatch[self.feature_out] = coverage\n",
    "        return eopatch\n",
    "    \n",
    "    \n",
    "class WaterDetector(EOTask):\n",
    "    def __init__(self, feature_in, feature_out):\n",
    "        self.feature_in = feature_in\n",
    "        self.feature_out = feature_out\n",
    "        \n",
    "    def execute(self, eopatch):\n",
    "        ndwi = eopatch.data['NDWI'][...,-1]\n",
    "        wmask = []\n",
    "        for im in ndwi:\n",
    "            im = gaussian(im, 2)\n",
    "            try:\n",
    "                _, mask = get_water_mask_from_S2(im)\n",
    "                wm = np.count_nonzero(mask == 1, axis=(0,1))/np.prod(mask.shape)        \n",
    "            except:\n",
    "                wm = np.nan\n",
    "            wmask.append(wm)\n",
    "        eopatch[self.feature_out] = np.expand_dims(wmask, -1)\n",
    "        return eopatch\n",
    "    \n",
    "    \n",
    "def get_water_mask_from_S2(ndwi, canny_sigma=4, canny_threshold=0.3, selem=disk(4)):\n",
    "    \"\"\"\n",
    "    Make water detection on input NDWI single band image.\n",
    "    \n",
    "    \"\"\"\n",
    "    # default threshold (no water detected)\n",
    "    otsu_thr = 1.0\n",
    "    status = 0\n",
    "    \n",
    "    # transform NDWI values to [0,1]\n",
    "    ndwi_std = (ndwi - np.min(ndwi))/np.ptp(ndwi)\n",
    "    \n",
    "    if len(np.unique(ndwi)) > 1:\n",
    "        edges = canny(ndwi_std, sigma=canny_sigma, high_threshold=canny_threshold)\n",
    "        edges = binary_dilation(edges, selem)\n",
    "        ndwi_masked = ma.masked_array(ndwi, mask=np.logical_not(edges))\n",
    "        \n",
    "        if len(np.unique(ndwi_masked.data[~ndwi_masked.mask])) > 1:\n",
    "            # threshold determined using dilated canny edge + otsu\n",
    "            otsu_thr = threshold_otsu(ndwi_masked.data[~ndwi_masked.mask])\n",
    "            status = 1\n",
    "\n",
    "            # if majority of pixels above threshold have negative NDWI values\n",
    "            # change the threshold to 0.0\n",
    "            fraction = np.count_nonzero(ndwi>0)/np.count_nonzero(ndwi>otsu_thr)\n",
    "            if fraction < 0.9:\n",
    "                otsu_thr = 0.0\n",
    "                status = 3\n",
    "        else:\n",
    "            # theshold determined with otsu on entire image\n",
    "            otsu_thr = threshold_otsu(ndwi)\n",
    "            status = 2\n",
    "            \n",
    "            # if majority of pixels above threshold have negative NDWI values\n",
    "            # change the threshold to 0.0\n",
    "            fraction = np.count_nonzero(ndwi>0)/np.count_nonzero(ndwi>otsu_thr)\n",
    "            if fraction < 0.9:\n",
    "                otsu_thr = 0.0\n",
    "                status = 4\n",
    "\n",
    "    return status, (ndwi>otsu_thr).astype(np.uint8)\n",
    "\n",
    "def get_water_cov(ndwi):\n",
    "    _, mask = get_water_mask_from_S2(ndwi)\n",
    "    return np.count_nonzero(mask == 1, axis=(0,1))/np.prod(mask.shape)"
   ]
  },
  {
   "cell_type": "code",
   "execution_count": 4,
   "metadata": {},
   "outputs": [],
   "source": [
    "#(lat, lon), width in meters\n",
    "location_data = [[48.6093, -1.6685], 15000]\n",
    "factors = [2.5]\n",
    "th = 0.95\n",
    "\n",
    "time_interval = [datetime(2017,1,1), datetime(2020,5,22)]\n",
    "\n",
    "x,y,zone,letter = utm.from_latlon(*location_data[0])\n",
    "x,y = np.round([x,y], -1)\n",
    "d = location_data[1]\n",
    "bbox = BBox((x-d, y-d, x+d, y+d), eval(f'CRS.UTM_{zone}{\"N\" if letter >= \"N\" else \"S\"}')).geometry\n",
    "crs = eval(f'CRS.UTM_{zone}{\"N\" if letter >= \"N\" else \"S\"}')\n",
    "\n",
    "utm_splitter = UtmZoneSplitter([bbox], crs, 4400)\n",
    "bbox_list = utm_splitter.get_bbox_list()\n",
    "\n",
    "gdf = gpd.GeoDataFrame(None, geometry=[b.geometry for b in bbox_list], crs=crs.epsg)"
   ]
  },
  {
   "cell_type": "code",
   "execution_count": 5,
   "metadata": {},
   "outputs": [
    {
     "data": {
      "text/plain": [
       "<matplotlib.axes._subplots.AxesSubplot at 0x7fcdcc20f150>"
      ]
     },
     "execution_count": 5,
     "metadata": {},
     "output_type": "execute_result"
    },
    {
     "data": {
      "image/png": "[encoded data removed]",
      "text/plain": [
       "<Figure size 720x720 with 1 Axes>"
      ]
     },
     "metadata": {
      "needs_background": "light"
     },
     "output_type": "display_data"
    }
   ],
   "source": [
    "fig, ax = plt.subplots(1,1,figsize=(10,10))\n",
    "gpd.GeoDataFrame(None, geometry=[bbox], crs=crs.epsg).plot(ax=ax, color='None', edgecolor='r')\n",
    "gdf.plot(ax=ax, color='None', edgecolor='k')"
   ]
  },
  {
   "cell_type": "markdown",
   "metadata": {},
   "source": [
    "# Download"
   ]
  },
  {
   "cell_type": "code",
   "execution_count": 6,
   "metadata": {},
   "outputs": [],
   "source": [
    "class ValidDataFractionPredicate:\n",
    "    \"\"\" Predicate that defines if a frame from EOPatch's time-series is valid or not. Frame is valid, if the \n",
    "    valid data fraction is above the specified threshold.\n",
    "    \"\"\"\n",
    "    def __init__(self, threshold):\n",
    "        self.threshold = threshold\n",
    "        \n",
    "    def __call__(self, array):\n",
    "        coverage = np.sum(array.astype(np.uint8)) / np.prod(array.shape)\n",
    "        return coverage > self.threshold\n",
    "\n",
    "download_task = SentinelHubInputTask(\n",
    "    bands_feature=(FeatureType.DATA, 'BANDS-S2-L1C'),\n",
    "    resolution=10,\n",
    "    maxcc=1.0,\n",
    "    time_difference=timedelta(hours=2),\n",
    "    data_source=DataSource.SENTINEL2_L1C,\n",
    "    additional_data=[\n",
    "        (FeatureType.MASK, 'dataMask')\n",
    "    ],\n",
    "    max_threads=15\n",
    ")\n",
    "\n",
    "# task for calculating clouds masks\n",
    "add_clm_task = AddMultiCloudMaskTask(\n",
    "    processing_resolution=120,\n",
    "    mask_feature='CLM_C',\n",
    "    is_data_feature = 'dataMask',\n",
    "    average_over=16,\n",
    "    dilation_size=8\n",
    ")\n",
    "\n",
    "valid_data_task = AddValidDataMaskTask(ValidData(is_data_mask='dataMask', clm_mask='CLM_C'), 'VALID_DATA')\n",
    "valid_data_predicate = ValidDataFractionPredicate(0.95)\n",
    "filter_task = SimpleFilterTask((FeatureType.MASK, 'VALID_DATA'), valid_data_predicate)\n",
    "\n",
    "ndwi = NormalizedDifferenceIndexTask((FeatureType.DATA, 'BANDS-S2-L1C'), (FeatureType.DATA, 'NDWI'), bands=[2,7])\n",
    "ndwi_surf = WaterDetector((FeatureType.DATA, 'NDWI'), (FeatureType.SCALAR, 'NDWI_SURF'))\n",
    "\n",
    "extract_bands = ExtractBandsTask((FeatureType.DATA, 'BANDS-S2-L1C'), (FeatureType.DATA, 'RGB'), [3,2,1])\n",
    "remove_task = RemoveFeature([(FeatureType.DATA, 'BANDS-S2-L1C')])"
   ]
  },
  {
   "cell_type": "markdown",
   "metadata": {},
   "source": [
    "# Download"
   ]
  },
  {
   "cell_type": "raw",
   "metadata": {},
   "source": [
    "# tasks for loading and saving\n",
    "save_task = SaveTask('./eopatches', overwrite_permission=OverwritePermission.OVERWRITE_PATCH)\n",
    "os.system('rm -rf eopatches && mkdir eopatches')\n",
    "\n",
    "workflow = LinearWorkflow(\n",
    "    download_task,\n",
    "    add_clm_task,\n",
    "    valid_data_task,\n",
    "    filter_task,\n",
    "    ndwi,\n",
    "    ndwi_surf,\n",
    "    extract_bands,\n",
    "    remove_task,\n",
    "    save_task\n",
    ")\n",
    "\n",
    "execution_args = []\n",
    "for idx, bbox in enumerate(bbox_list):\n",
    "    execution_args.append({\n",
    "        download_task: {'bbox': bbox, 'time_interval': time_interval},\n",
    "        save_task: {'eopatch_folder': f'eopatch_{idx}'}\n",
    "    })\n",
    "    \n",
    "executor = EOExecutor(workflow, execution_args, save_logs=True)\n",
    "executor.run(workers=5, multiprocess=True)\n",
    "\n",
    "executor.make_report()"
   ]
  },
  {
   "cell_type": "markdown",
   "metadata": {},
   "source": [
    "# Load"
   ]
  },
  {
   "cell_type": "code",
   "execution_count": 6,
   "metadata": {
    "scrolled": true
   },
   "outputs": [],
   "source": [
    "# tasks for loading and saving\n",
    "load_task = LoadTask('./eopatches', lazy_loading=True)\n",
    "\n",
    "# load the previously created eopatches\n",
    "workflow = LinearWorkflow(\n",
    "    load_task    \n",
    ")\n",
    "\n",
    "execution_args = []\n",
    "for idx, bbox in enumerate(bbox_list):\n",
    "    execution_args.append({\n",
    "        load_task: {'eopatch_folder': f'eopatch_{idx}'}\n",
    "    })\n",
    "    \n",
    "eopatches = []\n",
    "for args in execution_args:\n",
    "    eopatches.append(workflow.execute(args).eopatch())"
   ]
  },
  {
   "cell_type": "code",
   "execution_count": 7,
   "metadata": {},
   "outputs": [],
   "source": [
    "sets = [set([ts.date() for ts in eop.timestamp]) for eop in eopatches]"
   ]
  },
  {
   "cell_type": "code",
   "execution_count": 8,
   "metadata": {},
   "outputs": [],
   "source": [
    "dt_list = sets[0]\n",
    "for i in range(1,len(sets)):\n",
    "    dt_list = dt_list.intersection(sets[i])\n",
    "dt_list = np.array(list(dt_list))\n",
    "dt_list = np.sort(dt_list)"
   ]
  },
  {
   "cell_type": "code",
   "execution_count": 11,
   "metadata": {},
   "outputs": [
    {
     "data": {
      "text/plain": [
       "array(['2017-06-21', '2017-07-06', '2018-02-21', '2018-02-26',\n",
       "       '2018-04-22', '2018-05-07', '2018-06-26', '2018-08-05',\n",
       "       '2018-10-04', '2018-10-09', '2018-11-18', '2019-02-26',\n",
       "       '2019-06-26', '2019-07-06', '2019-09-19', '2019-12-03',\n",
       "       '2020-01-22', '2020-02-06', '2020-03-17', '2020-04-01'],\n",
       "      dtype='<U10')"
      ]
     },
     "execution_count": 11,
     "metadata": {},
     "output_type": "execute_result"
    }
   ],
   "source": [
    "np.array([dt.isoformat() for dt in dt_list])"
   ]
  },
  {
   "cell_type": "markdown",
   "metadata": {},
   "source": [
    "### export"
   ]
  },
  {
   "cell_type": "code",
   "execution_count": 12,
   "metadata": {},
   "outputs": [
    {
     "data": {
      "application/vnd.jupyter.widget-view+json": {
       "model_id": "b288e32a1753462eb1d4caafd501f7de",
       "version_major": 2,
       "version_minor": 0
      },
      "text/plain": [
       "HBox(children=(FloatProgress(value=0.0, max=64.0), HTML(value='')))"
      ]
     },
     "metadata": {},
     "output_type": "display_data"
    },
    {
     "name": "stdout",
     "output_type": "stream",
     "text": [
      "\n"
     ]
    }
   ],
   "source": [
    "for idx, eop in tqdm(enumerate(eopatches), total=len(eopatches)):\n",
    "    for jdx, dt in enumerate(dt_list):\n",
    "        date_id = np.where(np.array([ts.date() for ts in eop.timestamp]) == dt)[0][0]\n",
    "        export_task = ExportToTiff((FeatureType.DATA, 'RGB'), date_indices = [int(date_id)], crs=crs)\n",
    "        export_task(eop, filename=f'tiffs/rgb/eopatch_{idx}_{jdx}.tiff')"
   ]
  },
  {
   "cell_type": "code",
   "execution_count": 13,
   "metadata": {},
   "outputs": [
    {
     "data": {
      "application/vnd.jupyter.widget-view+json": {
       "model_id": "77209bb7e52941c4acc411f828ab9fb3",
       "version_major": 2,
       "version_minor": 0
      },
      "text/plain": [
       "HBox(children=(FloatProgress(value=0.0, max=64.0), HTML(value='')))"
      ]
     },
     "metadata": {},
     "output_type": "display_data"
    },
    {
     "name": "stdout",
     "output_type": "stream",
     "text": [
      "\n"
     ]
    }
   ],
   "source": [
    "for idx, eop in tqdm(enumerate(eopatches), total=len(eopatches)):\n",
    "    for jdx, dt in enumerate(dt_list):\n",
    "        date_id = np.where(np.array([ts.date() for ts in eop.timestamp]) == dt)[0][0]\n",
    "        export_task = ExportToTiff((FeatureType.DATA, 'NDWI'), date_indices = [int(date_id)], crs=crs)\n",
    "        export_task(eop, filename=f'tiffs/ndwi/eopatch_{idx}_{jdx}.tiff')"
   ]
  },
  {
   "cell_type": "markdown",
   "metadata": {},
   "source": [
    "### merge"
   ]
  },
  {
   "cell_type": "code",
   "execution_count": 14,
   "metadata": {},
   "outputs": [
    {
     "data": {
      "application/vnd.jupyter.widget-view+json": {
       "model_id": "55183ee80a9143ad8af12445dbea1da2",
       "version_major": 2,
       "version_minor": 0
      },
      "text/plain": [
       "HBox(children=(FloatProgress(value=0.0, max=20.0), HTML(value='')))"
      ]
     },
     "metadata": {},
     "output_type": "display_data"
    },
    {
     "name": "stdout",
     "output_type": "stream",
     "text": [
      "\n"
     ]
    }
   ],
   "source": [
    "os.system(f'rm -rf tiffs/rgb/rgb_*.tiff')\n",
    "\n",
    "for idx in tqdm(range(len(dt_list)), total=len(dt_list)):\n",
    "    os.system(f'gdal_merge.py -co compress=lzw -o tiffs/rgb/rgb_{idx}.tiff tiffs/rgb/eopatch_*_{idx}.tiff')"
   ]
  },
  {
   "cell_type": "code",
   "execution_count": 15,
   "metadata": {},
   "outputs": [
    {
     "data": {
      "application/vnd.jupyter.widget-view+json": {
       "model_id": "f72c7bb764474ba9b355bb91da17c675",
       "version_major": 2,
       "version_minor": 0
      },
      "text/plain": [
       "HBox(children=(FloatProgress(value=0.0, max=20.0), HTML(value='')))"
      ]
     },
     "metadata": {},
     "output_type": "display_data"
    },
    {
     "name": "stdout",
     "output_type": "stream",
     "text": [
      "\n"
     ]
    }
   ],
   "source": [
    "os.system(f'rm -rf tiffs/ndwi/ndwi_*.tiff')\n",
    "\n",
    "for idx in tqdm(range(len(dt_list)), total=len(dt_list)):\n",
    "    os.system(f'gdal_merge.py -co compress=lzw -o tiffs/ndwi/ndwi_{idx}.tiff tiffs/ndwi/eopatch_*_{idx}.tiff')"
   ]
  },
  {
   "cell_type": "markdown",
   "metadata": {},
   "source": [
    "### water cov"
   ]
  },
  {
   "cell_type": "code",
   "execution_count": 11,
   "metadata": {},
   "outputs": [
    {
     "data": {
      "application/vnd.jupyter.widget-view+json": {
       "model_id": "6284994e2d334908a7f449e5da358eb1",
       "version_major": 2,
       "version_minor": 0
      },
      "text/plain": [
       "HBox(children=(FloatProgress(value=0.0, max=20.0), HTML(value='')))"
      ]
     },
     "metadata": {},
     "output_type": "display_data"
    },
    {
     "name": "stdout",
     "output_type": "stream",
     "text": [
      "\n"
     ]
    }
   ],
   "source": [
    "rgb = []\n",
    "for idx in tqdm(range(len(dt_list)), total=len(dt_list)):\n",
    "    f = rasterio.open(f'./tiffs/rgb/rgb_{idx}.tiff')\n",
    "    data = np.moveaxis(f.read(), 0, -1)\n",
    "    rgb.append(data)\n",
    "    f.close()"
   ]
  },
  {
   "cell_type": "code",
   "execution_count": 12,
   "metadata": {},
   "outputs": [
    {
     "data": {
      "application/vnd.jupyter.widget-view+json": {
       "model_id": "011bc9b3edf9418d9fa1506bc87cc6a3",
       "version_major": 2,
       "version_minor": 0
      },
      "text/plain": [
       "HBox(children=(FloatProgress(value=0.0, max=20.0), HTML(value='')))"
      ]
     },
     "metadata": {},
     "output_type": "display_data"
    },
    {
     "name": "stdout",
     "output_type": "stream",
     "text": [
      "\n"
     ]
    }
   ],
   "source": [
    "ndwi = []\n",
    "for idx in tqdm(range(len(dt_list)), total=len(dt_list)):\n",
    "    f = rasterio.open(f'./tiffs/ndwi/ndwi_{idx}.tiff')\n",
    "    data = np.moveaxis(f.read(), 0, -1).squeeze(-1)\n",
    "    ndwi.append(data)\n",
    "    f.close()"
   ]
  },
  {
   "cell_type": "raw",
   "metadata": {},
   "source": [
    "plt.imshow(ndwi[0][1000:2000, 600:1500])"
   ]
  },
  {
   "cell_type": "code",
   "execution_count": 13,
   "metadata": {},
   "outputs": [],
   "source": [
    "def get_water_cov(ndwi):\n",
    "    # mask = gaussian(ndwi[1000:2000, 600:1500], 5) > 0.3\n",
    "    mask = gaussian(ndwi, 1) > 0.1\n",
    "    return np.count_nonzero(mask)/np.prod(mask.shape)\n",
    "\n",
    "# def get_water_cov(ndwi):\n",
    "#     _, mask = get_water_mask_from_S2(ndwi[1000:2000, 600:1500])\n",
    "#     return np.count_nonzero(mask == 1, axis=(0,1))/np.prod(mask.shape)"
   ]
  },
  {
   "cell_type": "code",
   "execution_count": 14,
   "metadata": {},
   "outputs": [
    {
     "data": {
      "application/vnd.jupyter.widget-view+json": {
       "model_id": "243ab64fee5247669dd61f0308ea54c5",
       "version_major": 2,
       "version_minor": 0
      },
      "text/plain": [
       "HBox(children=(FloatProgress(value=0.0, max=20.0), HTML(value='')))"
      ]
     },
     "metadata": {},
     "output_type": "display_data"
    },
    {
     "name": "stdout",
     "output_type": "stream",
     "text": [
      "\n"
     ]
    }
   ],
   "source": [
    "with ProcessPoolExecutor() as executor:\n",
    "    water_cov = list(tqdm(executor.map(get_water_cov, ndwi), total=len(ndwi)))\n",
    "water_cov = np.array(water_cov)"
   ]
  },
  {
   "cell_type": "code",
   "execution_count": 15,
   "metadata": {},
   "outputs": [
    {
     "data": {
      "text/plain": [
       "<matplotlib.collections.PathCollection at 0x7f9e627e0f90>"
      ]
     },
     "execution_count": 15,
     "metadata": {},
     "output_type": "execute_result"
    },
    {
     "data": {
      "image/png": "[encoded data removed]",
      "text/plain": [
       "<Figure size 432x288 with 1 Axes>"
      ]
     },
     "metadata": {
      "needs_background": "light"
     },
     "output_type": "display_data"
    }
   ],
   "source": [
    "plt.scatter(range(len(water_cov)), np.sort(water_cov))"
   ]
  },
  {
   "cell_type": "markdown",
   "metadata": {},
   "source": [
    "# Create animation"
   ]
  },
  {
   "cell_type": "code",
   "execution_count": 16,
   "metadata": {},
   "outputs": [],
   "source": [
    "# final_indices = np.array(np.argsort(water_cov).tolist())# + np.argsort(water_cov).tolist()[::-1][1:])\n",
    "final_indices = np.argsort(water_cov)[np.array([0,3,4,7,8,9,15,-2,-1])]\n",
    "final_indices = final_indices.tolist() + final_indices[::-1][1:-1].tolist() + np.argsort(water_cov)[np.array([1])].tolist()"
   ]
  },
  {
   "cell_type": "code",
   "execution_count": 17,
   "metadata": {},
   "outputs": [
    {
     "data": {
      "text/plain": [
       "<matplotlib.collections.PathCollection at 0x7f9e6279db50>"
      ]
     },
     "execution_count": 17,
     "metadata": {},
     "output_type": "execute_result"
    },
    {
     "data": {
      "image/png": "[encoded data removed]",
      "text/plain": [
       "<Figure size 432x288 with 1 Axes>"
      ]
     },
     "metadata": {
      "needs_background": "light"
     },
     "output_type": "display_data"
    }
   ],
   "source": [
    "plt.scatter(range(len(final_indices)), water_cov[final_indices])"
   ]
  },
  {
   "cell_type": "code",
   "execution_count": 18,
   "metadata": {},
   "outputs": [
    {
     "data": {
      "application/vnd.jupyter.widget-view+json": {
       "model_id": "7cad9dfd89294035ac4d000d00aa763d",
       "version_major": 2,
       "version_minor": 0
      },
      "text/plain": [
       "HBox(children=(FloatProgress(value=0.0, max=10.0), HTML(value='')))"
      ]
     },
     "metadata": {},
     "output_type": "display_data"
    },
    {
     "name": "stdout",
     "output_type": "stream",
     "text": [
      "\n"
     ]
    }
   ],
   "source": [
    "# create RGB animations \n",
    "os.system('rm -rf graphs && mkdir graphs')\n",
    "\n",
    "def plot_image(idx):\n",
    "    f = rasterio.open(f'./tiffs/rgb/rgb_{idx}.tiff')\n",
    "    data = np.moveaxis(f.read(), 0, -1)\n",
    "    f.close()\n",
    "    fig = plt.figure(figsize=(15,15))\n",
    "    plt.imshow(np.clip(data*2.8,0,1))\n",
    "    plt.xticks([])\n",
    "    plt.yticks([])\n",
    "    plt.axis('off')\n",
    "    plt.savefig(f'graphs/true_color_{idx}.png', dpi=200, bbox_inches='tight')\n",
    "    plt.close()\n",
    "    \n",
    "with ProcessPoolExecutor() as executor:\n",
    "    _ = list(tqdm(executor.map(plot_image, np.unique(final_indices)), total=len(np.unique(final_indices))))\n",
    "\n",
    "#with imageio.get_writer(f'true_color.gif', mode='I', duration=2.5/len(final_indices)) as writer:\n",
    "#    for idx in final_indices:\n",
    "#        image = imageio.imread(f'graphs/true_color_{idx}.png')\n",
    "#        writer.append_data(image)"
   ]
  },
  {
   "cell_type": "code",
   "execution_count": 19,
   "metadata": {},
   "outputs": [],
   "source": [
    "os.system('rm -rf anim && mkdir anim')\n",
    "for idx, im in enumerate(final_indices):\n",
    "    os.system(f'cp graphs/true_color_{im}.png anim/true_color_{idx}.png')"
   ]
  },
  {
   "cell_type": "code",
   "execution_count": null,
   "metadata": {},
   "outputs": [],
   "source": []
  }
 ],
 "metadata": {
  "kernelspec": {
   "display_name": "Python 3",
   "language": "python",
   "name": "python3"
  },
  "language_info": {
   "codemirror_mode": {
    "name": "ipython",
    "version": 3
   },
   "file_extension": ".py",
   "mimetype": "text/x-python",
   "name": "python",
   "nbconvert_exporter": "python",
   "pygments_lexer": "ipython3",
   "version": "3.7.6"
  }
 },
 "nbformat": 4,
 "nbformat_minor": 2
}
