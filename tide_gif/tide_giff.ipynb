{
 "cells": [
  {
   "cell_type": "code",
   "execution_count": 1,
   "metadata": {},
   "outputs": [
    {
     "name": "stderr",
     "output_type": "stream",
     "text": [
      "/home/mlubej/.pyenv/versions/3.7.6/envs/base/lib/python3.7/site-packages/bolt/utils.py:3: DeprecationWarning: Using or importing the ABCs from 'collections' instead of from 'collections.abc' is deprecated since Python 3.3,and in 3.9 it will stop working\n",
      "  from collections import Iterable\n",
      "/home/mlubej/.pyenv/versions/3.7.6/envs/base/lib/python3.7/site-packages/bolt/factory.py:17: DeprecationWarning: inspect.getargspec() is deprecated since Python 3.0, use inspect.signature() or inspect.getfullargspec()\n",
      "  args = inspect.getargspec(func)\n"
     ]
    }
   ],
   "source": [
    "import matplotlib.pyplot as plt\n",
    "# ^^^ pyforest auto-imports - don't write above this line\n",
    "# auto reload\n",
    "%load_ext autoreload\n",
    "%autoreload 2\n",
    "\n",
    "import os\n",
    "import imageio\n",
    "import utm\n",
    "import numpy as np\n",
    "import numpy.ma as ma\n",
    "from tqdm.auto import tqdm\n",
    "from concurrent.futures import ProcessPoolExecutor\n",
    "from datetime import datetime, timedelta\n",
    "\n",
    "from eolearn.core import FeatureType, LinearWorkflow, EOExecutor, EOTask, SaveTask, LoadTask, OverwritePermission\n",
    "from eolearn.mask import AddValidDataMaskTask, AddMultiCloudMaskTask\n",
    "from eolearn.io import SentinelHubInputTask\n",
    "from eolearn.coregistration import ThunderRegistration\n",
    "from eolearn.features import NormalizedDifferenceIndexTask\n",
    "\n",
    "from sentinelhub import DataSource, BBox, CRS\n",
    "\n",
    "\n",
    "from skimage.morphology import disk, binary_dilation\n",
    "from skimage.filters import threshold_otsu, gaussian\n",
    "from skimage.feature import canny"
   ]
  },
  {
   "cell_type": "markdown",
   "metadata": {},
   "source": [
    "# Task definitions"
   ]
  },
  {
   "cell_type": "code",
   "execution_count": 13,
   "metadata": {},
   "outputs": [],
   "source": [
    "class ValidData:\n",
    "    def __init__(self, is_data_mask, clm_mask):\n",
    "        self.is_data_mask = is_data_mask\n",
    "        self.clm_mask = clm_mask\n",
    "        \n",
    "    def __call__(self, eopatch):\n",
    "        return np.logical_and(eopatch.mask[self.is_data_mask].astype(np.bool),\n",
    "                              np.logical_not(eopatch.mask[self.clm_mask].astype(np.bool)))\n",
    "    \n",
    "\n",
    "class ValidCoverageTask(EOTask):\n",
    "    def __init__(self, feature_in, feature_out):\n",
    "        self.feature_in = feature_in\n",
    "        self.feature_out = feature_out\n",
    "        \n",
    "    def execute(self, eopatch):\n",
    "        mask = eopatch[self.feature_in]\n",
    "        coverage = np.count_nonzero(mask == 1, axis=(1,2))/np.prod(mask.shape[1:])\n",
    "        eopatch[self.feature_out] = coverage\n",
    "        return eopatch\n",
    "    \n",
    "    \n",
    "class WaterDetector(EOTask):\n",
    "    def __init__(self, feature_in, feature_out):\n",
    "        self.feature_in = feature_in\n",
    "        self.feature_out = feature_out\n",
    "        \n",
    "    def execute(self, eopatch):\n",
    "        ndwi = eopatch.data['NDWI'][...,-1]\n",
    "        wmask = []\n",
    "        for im in ndwi:\n",
    "            im = gaussian(im, 2)\n",
    "            try:\n",
    "                _, mask = get_water_mask_from_S2(im)\n",
    "                wm = np.count_nonzero(mask == 1, axis=(0,1))/np.prod(mask.shape)        \n",
    "            except:\n",
    "                wm = np.nan\n",
    "            wmask.append(wm)\n",
    "        eopatch[self.feature_out] = np.expand_dims(wmask, -1)\n",
    "        return eopatch\n",
    "    \n",
    "    \n",
    "def get_water_mask_from_S2(ndwi, canny_sigma=4, canny_threshold=0.3, selem=disk(4)):\n",
    "    \"\"\"\n",
    "    Make water detection on input NDWI single band image.\n",
    "    \n",
    "    \"\"\"\n",
    "    # default threshold (no water detected)\n",
    "    otsu_thr = 1.0\n",
    "    status = 0\n",
    "    \n",
    "    # transform NDWI values to [0,1]\n",
    "    ndwi_std = (ndwi - np.min(ndwi))/np.ptp(ndwi)\n",
    "    \n",
    "    if len(np.unique(ndwi)) > 1:\n",
    "        edges = canny(ndwi_std, sigma=canny_sigma, high_threshold=canny_threshold)\n",
    "        edges = binary_dilation(edges, selem)\n",
    "        ndwi_masked = ma.masked_array(ndwi, mask=np.logical_not(edges))\n",
    "        \n",
    "        if len(np.unique(ndwi_masked.data[~ndwi_masked.mask])) > 1:\n",
    "            # threshold determined using dilated canny edge + otsu\n",
    "            otsu_thr = threshold_otsu(ndwi_masked.data[~ndwi_masked.mask])\n",
    "            status = 1\n",
    "\n",
    "            # if majority of pixels above threshold have negative NDWI values\n",
    "            # change the threshold to 0.0\n",
    "            fraction = np.count_nonzero(ndwi>0)/np.count_nonzero(ndwi>otsu_thr)\n",
    "            if fraction < 0.9:\n",
    "                otsu_thr = 0.0\n",
    "                status = 3\n",
    "        else:\n",
    "            # theshold determined with otsu on entire image\n",
    "            otsu_thr = threshold_otsu(ndwi)\n",
    "            status = 2\n",
    "            \n",
    "            # if majority of pixels above threshold have negative NDWI values\n",
    "            # change the threshold to 0.0\n",
    "            fraction = np.count_nonzero(ndwi>0)/np.count_nonzero(ndwi>otsu_thr)\n",
    "            if fraction < 0.9:\n",
    "                otsu_thr = 0.0\n",
    "                status = 4\n",
    "\n",
    "    return status, (ndwi>otsu_thr).astype(np.uint8)"
   ]
  },
  {
   "cell_type": "code",
   "execution_count": 14,
   "metadata": {},
   "outputs": [],
   "source": [
    "# download RBG L2A bands for plotting\n",
    "download_task = SentinelHubInputTask(\n",
    "    bands_feature=(FeatureType.DATA, 'BANDS-S2-L1C'),\n",
    "    resolution=20,\n",
    "    maxcc=1.0,\n",
    "    time_difference=timedelta(days=1),\n",
    "    data_source=DataSource.SENTINEL2_L1C,\n",
    "    max_threads=10,\n",
    "    additional_data=[\n",
    "        (FeatureType.MASK, 'dataMask')\n",
    "    ])\n",
    "\n",
    "# task for calculating clouds masks\n",
    "add_clm_task = AddMultiCloudMaskTask(\n",
    "    processing_resolution=160,\n",
    "    mask_feature='CLM_C',\n",
    "    is_data_feature = 'dataMask',\n",
    "    average_over=16,\n",
    "    dilation_size=8\n",
    ")\n",
    "\n",
    "ndwi = NormalizedDifferenceIndexTask((FeatureType.DATA, 'BANDS'), (FeatureType.DATA, 'NDWI'), bands=[1,3])\n",
    "\n",
    "ndwi_surf = WaterDetector((FeatureType.DATA, 'NDWI'), (FeatureType.SCALAR, 'NDWI_SURF'))\n",
    "\n",
    "# task for creating a valid data mask\n",
    "valid_data_task = AddValidDataMaskTask(ValidData(is_data_mask='dataMask', clm_mask='CLM'), 'VALID_DATA')\n",
    "        \n",
    "\n",
    "# task for calculating the valid coverage\n",
    "valid_cov_task = ValidCoverageTask(feature_in=(FeatureType.MASK, 'VALID_DATA'), \n",
    "                                   feature_out=(FeatureType.SCALAR, 'VALID_COVERAGE'))\n",
    "\n",
    "\n",
    "# task for coregistrating the time frames\n",
    "coreg_task = ThunderRegistration((FeatureType.DATA, 'BANDS'), valid_mask_feature = (FeatureType.MASK, 'VALID_DATA'), \n",
    "                                 channel=0)\n",
    "\n",
    "\n",
    "# tasks for loading and saving\n",
    "load_task = LoadTask('./eopatches', lazy_loading=True)\n",
    "save_task = SaveTask('./eopatches', overwrite_permission=OverwritePermission.OVERWRITE_PATCH)"
   ]
  },
  {
   "cell_type": "markdown",
   "metadata": {},
   "source": [
    "# Download"
   ]
  },
  {
   "cell_type": "code",
   "execution_count": 15,
   "metadata": {},
   "outputs": [],
   "source": [
    "#(lat, lon), width in meters\n",
    "location_data = [\n",
    "    #[[48.6549, -1.8515], 7500]\n",
    "    [[48.6093, -1.6685], 15000]\n",
    "]\n",
    "\n",
    "factors = [2.5]\n",
    "th = 0.95\n",
    "\n",
    "time_interval = [datetime(2017,1,1), datetime(2018,5,15)]\n",
    "bbox_list = []\n",
    "for idx in range(len(location_data)):\n",
    "    x,y,zone,letter = utm.from_latlon(*location_data[idx][0])\n",
    "    x,y = np.round([x,y], -1)\n",
    "    d = location_data[idx][1]\n",
    "    bbox_list.append(BBox((x-d, y-d, x+d, y+d), eval(f'CRS.UTM_{zone}{\"N\" if letter >= \"N\" else \"S\"}')))"
   ]
  },
  {
   "cell_type": "code",
   "execution_count": null,
   "metadata": {
    "scrolled": true
   },
   "outputs": [
    {
     "data": {
      "application/vnd.jupyter.widget-view+json": {
       "model_id": "48e57b01aefc4ebdbf5773deb9901cd0",
       "version_major": 2,
       "version_minor": 0
      },
      "text/plain": [
       "HBox(children=(FloatProgress(value=0.0, max=1.0), HTML(value='')))"
      ]
     },
     "metadata": {},
     "output_type": "display_data"
    }
   ],
   "source": [
    "os.system('rm -rf eopatches && mkdir eopatches')\n",
    "\n",
    "workflow = LinearWorkflow(\n",
    "    download_task,\n",
    "    add_clm_task,\n",
    "    ndwi,\n",
    "    valid_data_task,\n",
    "    valid_cov_task,\n",
    "    save_task\n",
    ")\n",
    "\n",
    "execution_args = []\n",
    "for idx, bbox in enumerate(bbox_list):\n",
    "    execution_args.append({\n",
    "        download_task: {'bbox': bbox, 'time_interval': time_interval},\n",
    "        save_task: {'eopatch_folder': f'eopatch_{idx}'}\n",
    "    })\n",
    "    \n",
    "executor = EOExecutor(workflow, execution_args, save_logs=True)\n",
    "executor.run(workers=8, multiprocess=False)\n",
    "\n",
    "executor.make_report()"
   ]
  },
  {
   "cell_type": "markdown",
   "metadata": {},
   "source": [
    "# Load"
   ]
  },
  {
   "cell_type": "code",
   "execution_count": 12,
   "metadata": {
    "scrolled": true
   },
   "outputs": [
    {
     "ename": "NameError",
     "evalue": "During execution of task WaterDetector: name 'eop' is not defined",
     "output_type": "error",
     "traceback": [
      "\u001b[0;31m---------------------------------------------------------------------------\u001b[0m",
      "\u001b[0;31mNameError\u001b[0m                                 Traceback (most recent call last)",
      "\u001b[0;32m~/work/projects/eo-learn/core/eolearn/core/eotask.py\u001b[0m in \u001b[0;36m_execute_handling\u001b[0;34m(self, *eopatches, **kwargs)\u001b[0m\n\u001b[1;32m     71\u001b[0m         \u001b[0;32mtry\u001b[0m\u001b[0;34m:\u001b[0m\u001b[0;34m\u001b[0m\u001b[0;34m\u001b[0m\u001b[0m\n\u001b[0;32m---> 72\u001b[0;31m             \u001b[0mreturn_value\u001b[0m \u001b[0;34m=\u001b[0m \u001b[0mself\u001b[0m\u001b[0;34m.\u001b[0m\u001b[0mexecute\u001b[0m\u001b[0;34m(\u001b[0m\u001b[0;34m*\u001b[0m\u001b[0meopatches\u001b[0m\u001b[0;34m,\u001b[0m \u001b[0;34m**\u001b[0m\u001b[0mkwargs\u001b[0m\u001b[0;34m)\u001b[0m\u001b[0;34m\u001b[0m\u001b[0;34m\u001b[0m\u001b[0m\n\u001b[0m\u001b[1;32m     73\u001b[0m             \u001b[0mself\u001b[0m\u001b[0;34m.\u001b[0m\u001b[0mprivate_task_config\u001b[0m\u001b[0;34m.\u001b[0m\u001b[0mend_time\u001b[0m \u001b[0;34m=\u001b[0m \u001b[0mdatetime\u001b[0m\u001b[0;34m.\u001b[0m\u001b[0mdatetime\u001b[0m\u001b[0;34m.\u001b[0m\u001b[0mnow\u001b[0m\u001b[0;34m(\u001b[0m\u001b[0;34m)\u001b[0m\u001b[0;34m\u001b[0m\u001b[0;34m\u001b[0m\u001b[0m\n",
      "\u001b[0;32m<ipython-input-2-46c354c75a23>\u001b[0m in \u001b[0;36mexecute\u001b[0;34m(self, eopatch)\u001b[0m\n\u001b[1;32m     28\u001b[0m     \u001b[0;32mdef\u001b[0m \u001b[0mexecute\u001b[0m\u001b[0;34m(\u001b[0m\u001b[0mself\u001b[0m\u001b[0;34m,\u001b[0m \u001b[0meopatch\u001b[0m\u001b[0;34m)\u001b[0m\u001b[0;34m:\u001b[0m\u001b[0;34m\u001b[0m\u001b[0;34m\u001b[0m\u001b[0m\n\u001b[0;32m---> 29\u001b[0;31m         \u001b[0mndwi\u001b[0m \u001b[0;34m=\u001b[0m \u001b[0meop\u001b[0m\u001b[0;34m.\u001b[0m\u001b[0mdata\u001b[0m\u001b[0;34m[\u001b[0m\u001b[0;34m'NDWI'\u001b[0m\u001b[0;34m]\u001b[0m\u001b[0;34m[\u001b[0m\u001b[0;34m...\u001b[0m\u001b[0;34m,\u001b[0m\u001b[0;34m-\u001b[0m\u001b[0;36m1\u001b[0m\u001b[0;34m]\u001b[0m\u001b[0;34m\u001b[0m\u001b[0;34m\u001b[0m\u001b[0m\n\u001b[0m\u001b[1;32m     30\u001b[0m         \u001b[0mwmask\u001b[0m \u001b[0;34m=\u001b[0m \u001b[0;34m[\u001b[0m\u001b[0;34m]\u001b[0m\u001b[0;34m\u001b[0m\u001b[0;34m\u001b[0m\u001b[0m\n",
      "\u001b[0;31mNameError\u001b[0m: name 'eop' is not defined",
      "\nDuring handling of the above exception, another exception occurred:\n",
      "\u001b[0;31mNameError\u001b[0m                                 Traceback (most recent call last)",
      "\u001b[0;32m<ipython-input-12-58be039f9656>\u001b[0m in \u001b[0;36m<module>\u001b[0;34m\u001b[0m\n\u001b[1;32m     14\u001b[0m \u001b[0meopatches\u001b[0m \u001b[0;34m=\u001b[0m \u001b[0;34m[\u001b[0m\u001b[0;34m]\u001b[0m\u001b[0;34m\u001b[0m\u001b[0;34m\u001b[0m\u001b[0m\n\u001b[1;32m     15\u001b[0m \u001b[0;32mfor\u001b[0m \u001b[0margs\u001b[0m \u001b[0;32min\u001b[0m \u001b[0mexecution_args\u001b[0m\u001b[0;34m:\u001b[0m\u001b[0;34m\u001b[0m\u001b[0;34m\u001b[0m\u001b[0m\n\u001b[0;32m---> 16\u001b[0;31m     \u001b[0meopatches\u001b[0m\u001b[0;34m.\u001b[0m\u001b[0mappend\u001b[0m\u001b[0;34m(\u001b[0m\u001b[0mworkflow\u001b[0m\u001b[0;34m.\u001b[0m\u001b[0mexecute\u001b[0m\u001b[0;34m(\u001b[0m\u001b[0margs\u001b[0m\u001b[0;34m)\u001b[0m\u001b[0;34m.\u001b[0m\u001b[0meopatch\u001b[0m\u001b[0;34m(\u001b[0m\u001b[0;34m)\u001b[0m\u001b[0;34m)\u001b[0m\u001b[0;34m\u001b[0m\u001b[0;34m\u001b[0m\u001b[0m\n\u001b[0m",
      "\u001b[0;32m~/work/projects/eo-learn/core/eolearn/core/eoworkflow.py\u001b[0m in \u001b[0;36mexecute\u001b[0;34m(self, input_args, monitor)\u001b[0m\n\u001b[1;32m    170\u001b[0m         \u001b[0minput_args\u001b[0m \u001b[0;34m=\u001b[0m \u001b[0mself\u001b[0m\u001b[0;34m.\u001b[0m\u001b[0mparse_input_args\u001b[0m\u001b[0;34m(\u001b[0m\u001b[0minput_args\u001b[0m\u001b[0;34m)\u001b[0m\u001b[0;34m\u001b[0m\u001b[0;34m\u001b[0m\u001b[0m\n\u001b[1;32m    171\u001b[0m \u001b[0;34m\u001b[0m\u001b[0m\n\u001b[0;32m--> 172\u001b[0;31m         \u001b[0mresults\u001b[0m \u001b[0;34m=\u001b[0m \u001b[0mWorkflowResults\u001b[0m\u001b[0;34m(\u001b[0m\u001b[0mself\u001b[0m\u001b[0;34m.\u001b[0m\u001b[0m_execute_tasks\u001b[0m\u001b[0;34m(\u001b[0m\u001b[0minput_args\u001b[0m\u001b[0;34m=\u001b[0m\u001b[0minput_args\u001b[0m\u001b[0;34m,\u001b[0m \u001b[0mout_degs\u001b[0m\u001b[0;34m=\u001b[0m\u001b[0mout_degs\u001b[0m\u001b[0;34m,\u001b[0m \u001b[0mmonitor\u001b[0m\u001b[0;34m=\u001b[0m\u001b[0mmonitor\u001b[0m\u001b[0;34m)\u001b[0m\u001b[0;34m)\u001b[0m\u001b[0;34m\u001b[0m\u001b[0;34m\u001b[0m\u001b[0m\n\u001b[0m\u001b[1;32m    173\u001b[0m \u001b[0;34m\u001b[0m\u001b[0m\n\u001b[1;32m    174\u001b[0m         \u001b[0mLOGGER\u001b[0m\u001b[0;34m.\u001b[0m\u001b[0mdebug\u001b[0m\u001b[0;34m(\u001b[0m\u001b[0;34m'Workflow finished with %s'\u001b[0m\u001b[0;34m,\u001b[0m \u001b[0mrepr\u001b[0m\u001b[0;34m(\u001b[0m\u001b[0mresults\u001b[0m\u001b[0;34m)\u001b[0m\u001b[0;34m)\u001b[0m\u001b[0;34m\u001b[0m\u001b[0;34m\u001b[0m\u001b[0m\n",
      "\u001b[0;32m~/work/projects/eo-learn/core/eolearn/core/eoworkflow.py\u001b[0m in \u001b[0;36m_execute_tasks\u001b[0;34m(self, input_args, out_degs, monitor)\u001b[0m\n\u001b[1;32m    208\u001b[0m                                         \u001b[0minput_args\u001b[0m\u001b[0;34m=\u001b[0m\u001b[0minput_args\u001b[0m\u001b[0;34m,\u001b[0m\u001b[0;34m\u001b[0m\u001b[0;34m\u001b[0m\u001b[0m\n\u001b[1;32m    209\u001b[0m                                         \u001b[0mintermediate_results\u001b[0m\u001b[0;34m=\u001b[0m\u001b[0mintermediate_results\u001b[0m\u001b[0;34m,\u001b[0m\u001b[0;34m\u001b[0m\u001b[0;34m\u001b[0m\u001b[0m\n\u001b[0;32m--> 210\u001b[0;31m                                         monitor=monitor)\n\u001b[0m\u001b[1;32m    211\u001b[0m \u001b[0;34m\u001b[0m\u001b[0m\n\u001b[1;32m    212\u001b[0m             \u001b[0mintermediate_results\u001b[0m\u001b[0;34m[\u001b[0m\u001b[0mdep\u001b[0m\u001b[0;34m]\u001b[0m \u001b[0;34m=\u001b[0m \u001b[0mresult\u001b[0m\u001b[0;34m\u001b[0m\u001b[0;34m\u001b[0m\u001b[0m\n",
      "\u001b[0;32m~/work/projects/eo-learn/core/eolearn/core/eoworkflow.py\u001b[0m in \u001b[0;36m_execute_task\u001b[0;34m(self, dependency, input_args, intermediate_results, monitor)\u001b[0m\n\u001b[1;32m    241\u001b[0m \u001b[0;34m\u001b[0m\u001b[0m\n\u001b[1;32m    242\u001b[0m         \u001b[0mLOGGER\u001b[0m\u001b[0;34m.\u001b[0m\u001b[0mdebug\u001b[0m\u001b[0;34m(\u001b[0m\u001b[0;34m\"Computing %s(*%s, **%s)\"\u001b[0m\u001b[0;34m,\u001b[0m \u001b[0mtask\u001b[0m\u001b[0;34m.\u001b[0m\u001b[0m__class__\u001b[0m\u001b[0;34m.\u001b[0m\u001b[0m__name__\u001b[0m\u001b[0;34m,\u001b[0m \u001b[0mstr\u001b[0m\u001b[0;34m(\u001b[0m\u001b[0minputs\u001b[0m\u001b[0;34m)\u001b[0m\u001b[0;34m,\u001b[0m \u001b[0mstr\u001b[0m\u001b[0;34m(\u001b[0m\u001b[0mkw_inputs\u001b[0m\u001b[0;34m)\u001b[0m\u001b[0;34m)\u001b[0m\u001b[0;34m\u001b[0m\u001b[0;34m\u001b[0m\u001b[0m\n\u001b[0;32m--> 243\u001b[0;31m         \u001b[0;32mreturn\u001b[0m \u001b[0mtask\u001b[0m\u001b[0;34m(\u001b[0m\u001b[0;34m*\u001b[0m\u001b[0minputs\u001b[0m\u001b[0;34m,\u001b[0m \u001b[0;34m**\u001b[0m\u001b[0mkw_inputs\u001b[0m\u001b[0;34m,\u001b[0m \u001b[0mmonitor\u001b[0m\u001b[0;34m=\u001b[0m\u001b[0mmonitor\u001b[0m\u001b[0;34m)\u001b[0m\u001b[0;34m\u001b[0m\u001b[0;34m\u001b[0m\u001b[0m\n\u001b[0m\u001b[1;32m    244\u001b[0m \u001b[0;34m\u001b[0m\u001b[0m\n\u001b[1;32m    245\u001b[0m     \u001b[0;32mdef\u001b[0m \u001b[0m_relax_dependencies\u001b[0m\u001b[0;34m(\u001b[0m\u001b[0mself\u001b[0m\u001b[0;34m,\u001b[0m \u001b[0;34m*\u001b[0m\u001b[0;34m,\u001b[0m \u001b[0mdependency\u001b[0m\u001b[0;34m,\u001b[0m \u001b[0mout_degrees\u001b[0m\u001b[0;34m,\u001b[0m \u001b[0mintermediate_results\u001b[0m\u001b[0;34m)\u001b[0m\u001b[0;34m:\u001b[0m\u001b[0;34m\u001b[0m\u001b[0;34m\u001b[0m\u001b[0m\n",
      "\u001b[0;32m~/work/projects/eo-learn/core/eolearn/core/eotask.py\u001b[0m in \u001b[0;36m__call__\u001b[0;34m(self, monitor, *eopatches, **kwargs)\u001b[0m\n\u001b[1;32m     57\u001b[0m         \u001b[0;31m#     return self.execute_and_monitor(*eopatches, **kwargs)\u001b[0m\u001b[0;34m\u001b[0m\u001b[0;34m\u001b[0m\u001b[0;34m\u001b[0m\u001b[0m\n\u001b[1;32m     58\u001b[0m \u001b[0;34m\u001b[0m\u001b[0m\n\u001b[0;32m---> 59\u001b[0;31m         \u001b[0;32mreturn\u001b[0m \u001b[0mself\u001b[0m\u001b[0;34m.\u001b[0m\u001b[0m_execute_handling\u001b[0m\u001b[0;34m(\u001b[0m\u001b[0;34m*\u001b[0m\u001b[0meopatches\u001b[0m\u001b[0;34m,\u001b[0m \u001b[0;34m**\u001b[0m\u001b[0mkwargs\u001b[0m\u001b[0;34m)\u001b[0m\u001b[0;34m\u001b[0m\u001b[0;34m\u001b[0m\u001b[0m\n\u001b[0m\u001b[1;32m     60\u001b[0m \u001b[0;34m\u001b[0m\u001b[0m\n\u001b[1;32m     61\u001b[0m     \u001b[0;32mdef\u001b[0m \u001b[0mexecute_and_monitor\u001b[0m\u001b[0;34m(\u001b[0m\u001b[0mself\u001b[0m\u001b[0;34m,\u001b[0m \u001b[0;34m*\u001b[0m\u001b[0meopatches\u001b[0m\u001b[0;34m,\u001b[0m \u001b[0;34m**\u001b[0m\u001b[0mkwargs\u001b[0m\u001b[0;34m)\u001b[0m\u001b[0;34m:\u001b[0m\u001b[0;34m\u001b[0m\u001b[0;34m\u001b[0m\u001b[0m\n",
      "\u001b[0;32m~/work/projects/eo-learn/core/eolearn/core/eotask.py\u001b[0m in \u001b[0;36m_execute_handling\u001b[0;34m(self, *eopatches, **kwargs)\u001b[0m\n\u001b[1;32m     83\u001b[0m                 \u001b[0mextended_exception\u001b[0m \u001b[0;34m=\u001b[0m \u001b[0mexception\u001b[0m\u001b[0;34m\u001b[0m\u001b[0;34m\u001b[0m\u001b[0m\n\u001b[1;32m     84\u001b[0m \u001b[0;34m\u001b[0m\u001b[0m\n\u001b[0;32m---> 85\u001b[0;31m             \u001b[0;32mraise\u001b[0m \u001b[0mextended_exception\u001b[0m\u001b[0;34m.\u001b[0m\u001b[0mwith_traceback\u001b[0m\u001b[0;34m(\u001b[0m\u001b[0mtraceback\u001b[0m\u001b[0;34m)\u001b[0m\u001b[0;34m\u001b[0m\u001b[0;34m\u001b[0m\u001b[0m\n\u001b[0m\u001b[1;32m     86\u001b[0m \u001b[0;34m\u001b[0m\u001b[0m\n\u001b[1;32m     87\u001b[0m     \u001b[0;34m@\u001b[0m\u001b[0mabstractmethod\u001b[0m\u001b[0;34m\u001b[0m\u001b[0;34m\u001b[0m\u001b[0m\n",
      "\u001b[0;32m~/work/projects/eo-learn/core/eolearn/core/eotask.py\u001b[0m in \u001b[0;36m_execute_handling\u001b[0;34m(self, *eopatches, **kwargs)\u001b[0m\n\u001b[1;32m     70\u001b[0m \u001b[0;34m\u001b[0m\u001b[0m\n\u001b[1;32m     71\u001b[0m         \u001b[0;32mtry\u001b[0m\u001b[0;34m:\u001b[0m\u001b[0;34m\u001b[0m\u001b[0;34m\u001b[0m\u001b[0m\n\u001b[0;32m---> 72\u001b[0;31m             \u001b[0mreturn_value\u001b[0m \u001b[0;34m=\u001b[0m \u001b[0mself\u001b[0m\u001b[0;34m.\u001b[0m\u001b[0mexecute\u001b[0m\u001b[0;34m(\u001b[0m\u001b[0;34m*\u001b[0m\u001b[0meopatches\u001b[0m\u001b[0;34m,\u001b[0m \u001b[0;34m**\u001b[0m\u001b[0mkwargs\u001b[0m\u001b[0;34m)\u001b[0m\u001b[0;34m\u001b[0m\u001b[0;34m\u001b[0m\u001b[0m\n\u001b[0m\u001b[1;32m     73\u001b[0m             \u001b[0mself\u001b[0m\u001b[0;34m.\u001b[0m\u001b[0mprivate_task_config\u001b[0m\u001b[0;34m.\u001b[0m\u001b[0mend_time\u001b[0m \u001b[0;34m=\u001b[0m \u001b[0mdatetime\u001b[0m\u001b[0;34m.\u001b[0m\u001b[0mdatetime\u001b[0m\u001b[0;34m.\u001b[0m\u001b[0mnow\u001b[0m\u001b[0;34m(\u001b[0m\u001b[0;34m)\u001b[0m\u001b[0;34m\u001b[0m\u001b[0;34m\u001b[0m\u001b[0m\n\u001b[1;32m     74\u001b[0m             \u001b[0;32mreturn\u001b[0m \u001b[0mreturn_value\u001b[0m\u001b[0;34m\u001b[0m\u001b[0;34m\u001b[0m\u001b[0m\n",
      "\u001b[0;32m<ipython-input-2-46c354c75a23>\u001b[0m in \u001b[0;36mexecute\u001b[0;34m(self, eopatch)\u001b[0m\n\u001b[1;32m     27\u001b[0m \u001b[0;34m\u001b[0m\u001b[0m\n\u001b[1;32m     28\u001b[0m     \u001b[0;32mdef\u001b[0m \u001b[0mexecute\u001b[0m\u001b[0;34m(\u001b[0m\u001b[0mself\u001b[0m\u001b[0;34m,\u001b[0m \u001b[0meopatch\u001b[0m\u001b[0;34m)\u001b[0m\u001b[0;34m:\u001b[0m\u001b[0;34m\u001b[0m\u001b[0;34m\u001b[0m\u001b[0m\n\u001b[0;32m---> 29\u001b[0;31m         \u001b[0mndwi\u001b[0m \u001b[0;34m=\u001b[0m \u001b[0meop\u001b[0m\u001b[0;34m.\u001b[0m\u001b[0mdata\u001b[0m\u001b[0;34m[\u001b[0m\u001b[0;34m'NDWI'\u001b[0m\u001b[0;34m]\u001b[0m\u001b[0;34m[\u001b[0m\u001b[0;34m...\u001b[0m\u001b[0;34m,\u001b[0m\u001b[0;34m-\u001b[0m\u001b[0;36m1\u001b[0m\u001b[0;34m]\u001b[0m\u001b[0;34m\u001b[0m\u001b[0;34m\u001b[0m\u001b[0m\n\u001b[0m\u001b[1;32m     30\u001b[0m         \u001b[0mwmask\u001b[0m \u001b[0;34m=\u001b[0m \u001b[0;34m[\u001b[0m\u001b[0;34m]\u001b[0m\u001b[0;34m\u001b[0m\u001b[0;34m\u001b[0m\u001b[0m\n\u001b[1;32m     31\u001b[0m         \u001b[0;32mfor\u001b[0m \u001b[0mim\u001b[0m \u001b[0;32min\u001b[0m \u001b[0mndwi\u001b[0m\u001b[0;34m:\u001b[0m\u001b[0;34m\u001b[0m\u001b[0;34m\u001b[0m\u001b[0m\n",
      "\u001b[0;31mNameError\u001b[0m: During execution of task WaterDetector: name 'eop' is not defined"
     ]
    }
   ],
   "source": [
    "# load the previously created eopatches\n",
    "workflow = LinearWorkflow(\n",
    "    load_task,\n",
    "    ndwi_surf\n",
    ")\n",
    "\n",
    "execution_args = []\n",
    "for idx, bbox in enumerate(bbox_list):\n",
    "    execution_args.append({\n",
    "        load_task: {'eopatch_folder': f'eopatch_{idx}'}\n",
    "    })\n",
    "    \n",
    "eopatches = []\n",
    "for args in execution_args:\n",
    "    eopatches.append(workflow.execute(args).eopatch())"
   ]
  },
  {
   "cell_type": "markdown",
   "metadata": {},
   "source": [
    "# Create animation"
   ]
  },
  {
   "cell_type": "code",
   "execution_count": 140,
   "metadata": {},
   "outputs": [],
   "source": [
    "valid_indices = np.argwhere((eop.scalar['VALID_COVERAGE']  > th))[:,0]\n",
    "valid_water_cov = eop.scalar['NDWI_SURF'][valid_indices].squeeze()\n",
    "final_indices = np.append(valid_indices[np.argsort(valid_water_cov)], valid_indices[np.argsort(valid_water_cov)][::-1][1:])"
   ]
  },
  {
   "cell_type": "code",
   "execution_count": 151,
   "metadata": {},
   "outputs": [
    {
     "data": {
      "application/vnd.jupyter.widget-view+json": {
       "model_id": "dc2df4ae771b4be5b13f904a8c3fe13d",
       "version_major": 2,
       "version_minor": 0
      },
      "text/plain": [
       "HBox(children=(FloatProgress(value=0.0, max=1.0), HTML(value='')))"
      ]
     },
     "metadata": {},
     "output_type": "display_data"
    },
    {
     "data": {
      "application/vnd.jupyter.widget-view+json": {
       "model_id": "",
       "version_major": 2,
       "version_minor": 0
      },
      "text/plain": [
       "HBox(children=(FloatProgress(value=0.0, max=59.0), HTML(value='')))"
      ]
     },
     "metadata": {},
     "output_type": "display_data"
    },
    {
     "name": "stdout",
     "output_type": "stream",
     "text": [
      "\n"
     ]
    }
   ],
   "source": [
    "# create RGB animations \n",
    "os.system('rm -rf graphs && mkdir graphs')\n",
    "\n",
    "def plot_image(idx, f):\n",
    "    fig = plt.figure(figsize=(10,10))\n",
    "    plt.imshow(np.clip(eop.data['BANDS'][idx][...,[0,1,2]]*f,0,1))\n",
    "    plt.xticks([])\n",
    "    plt.yticks([])\n",
    "    plt.axis('off')\n",
    "    plt.savefig(f'graphs/true_color_{name}_{idx}.png', dpi=150, bbox_inches='tight')\n",
    "    plt.close()\n",
    "    \n",
    "for idx in tqdm(range(len(eopatches)), total=len(eopatches)):\n",
    "    eop = eopatches[idx]\n",
    "    f = factors[idx]\n",
    "    name = f'loc{idx}'\n",
    "    \n",
    "    def plot(idx):\n",
    "        plot_image(idx,f)\n",
    "\n",
    "    with ProcessPoolExecutor(max_workers=8) as executor:\n",
    "        _ = list(tqdm(executor.map(plot, final_indices), total=len(final_indices), leave=False))\n",
    "\n",
    "    with imageio.get_writer(f'figs/true_color_{name}.gif', mode='I', duration=5/len(final_indices)) as writer:\n",
    "        for i in final_indices:\n",
    "            image = imageio.imread(f'graphs/true_color_{name}_{i}.png')\n",
    "            writer.append_data(image)"
   ]
  },
  {
   "cell_type": "markdown",
   "metadata": {},
   "source": [
    "# Create graph animation"
   ]
  },
  {
   "cell_type": "code",
   "execution_count": 81,
   "metadata": {},
   "outputs": [],
   "source": [
    "# define function for plotting time frame\n",
    "\n",
    "def plot_graph(idx, f, name):\n",
    "    x = np.mean(eop.data['sunAzimuthAngles'][...,0], axis=(1,2))\n",
    "    y = np.mean(eop.data['sunZenithAngles'][...,0], axis=(1,2))\n",
    "    valid_mask = eop.scalar['VALID_COVERAGE'].squeeze() > th\n",
    "    ids = np.array(range(len(valid_mask)))\n",
    "    dates = np.array([ts.date().isoformat()[:-3] for ts in eop.timestamp])\n",
    "    transition_dates = [datetime(2019,3,20), datetime(2019,6,21),datetime(2019,9,23), datetime(2019,12,22)]\n",
    "    transition_doys = [(x-datetime(2019,1,1)).days for x in transition_dates]    \n",
    "    try:\n",
    "        last_valid = ids[:idx+1][valid_mask[:idx+1]][-1]\n",
    "    except:\n",
    "        last_valid = ids[valid_mask][-1]\n",
    "    \n",
    "    fig, axs = plt.subplots(2,2,figsize=(10,10))\n",
    "    plot_ids = np.array(range(len(valid_mask[:idx])))[valid_mask[:idx]].astype(int)\n",
    "\n",
    "    ax1 = axs[0,0]\n",
    "    ax1.plot(x,y)\n",
    "    ax1.plot(x[:idx+1],y[:idx+1],'r')\n",
    "    ax1.plot(x[plot_ids],y[plot_ids],'kx')\n",
    "    ax1.plot(x[idx], y[idx], 'r', marker='o')\n",
    "    ax1.set_xlabel('Azimuth [°]')\n",
    "    ax1.set_ylabel('Zenith [°]')\n",
    "\n",
    "    def idx_to_days(x):\n",
    "        return x*365/len(dates)\n",
    "\n",
    "    def days_to_idx(x):\n",
    "        return x*len(dates)/365\n",
    "    \n",
    "    ax2 = axs[0,1]\n",
    "    ax2.plot(y)\n",
    "    ax2.plot(range(len(y[:idx+1])), y[:idx+1],'r')\n",
    "    ax2.plot(np.array(range(len(y)))[plot_ids], y[plot_ids],'kx')\n",
    "    ax2.plot(idx, y[idx], 'r', marker='o')\n",
    "    ax2.set_xlabel('Time')\n",
    "    ax2.set_xticks([days_to_idx(doy) for doy in transition_doys])\n",
    "    ax2.set_xticklabels([dt.strftime(format='%Y-%m') for dt in transition_dates], ha='right')\n",
    "    ax2.set_yticks([])\n",
    "    \n",
    "    ax3 = axs[1,0]\n",
    "    ax3.plot(x, range(len(x)))\n",
    "    ax3.plot(x[:idx+1], range(len(x[:idx+1])), 'r')\n",
    "    ax3.plot(x[plot_ids], np.array(range(len(x)))[plot_ids], 'kx')\n",
    "    ax3.plot(x[idx], idx, 'r', marker='o')\n",
    "    ax3.set_xticks([])\n",
    "    ax3.set_yticks([])\n",
    "    \n",
    "    sax3 = ax3.secondary_yaxis('right', functions=(idx_to_days, days_to_idx))\n",
    "    sax3.set_ylabel('Time')\n",
    "    sax3.set_yticks(transition_doys)\n",
    "    sax3.set_yticklabels([dt.strftime(format='%Y-%m') for dt in transition_dates], rotation=90, va='top')\n",
    "\n",
    "    ax1.axvline(x=x[idx],ymin=-1.2,ymax=1,c=\"gray\",linewidth=1, linestyle='dashed',zorder=0, clip_on=False)\n",
    "    ax3.axvline(x=x[idx],ymin=0,ymax=1,c=\"gray\",linewidth=1, linestyle='dashed',zorder=0, clip_on=False)\n",
    "    ax1.axhline(y=y[idx],xmin=0,xmax=1.2,c=\"gray\",linewidth=1, linestyle='dashed',zorder=0, clip_on=False)\n",
    "    ax2.axhline(y=y[idx],xmin=0,xmax=1,c=\"gray\",linewidth=1, linestyle='dashed',zorder=0, clip_on=False)\n",
    "    \n",
    "    ax4 = axs[1,1]\n",
    "    \n",
    "    if last_valid is not None:\n",
    "        ax4.imshow(np.clip(eop.data['RGB'][last_valid]*f,0,1))\n",
    "    else:\n",
    "        pass\n",
    "    \n",
    "    ax4.set_xticks([])\n",
    "    ax4.set_yticks([])\n",
    "    ax4.axis('off')  \n",
    "        \n",
    "    # comment out below to plot\n",
    "    plt.savefig(f'graphs/graph_{name}_{idx}.png', dpi=100, bbox_inches='tight')\n",
    "    plt.close()"
   ]
  },
  {
   "cell_type": "code",
   "execution_count": 14,
   "metadata": {},
   "outputs": [
    {
     "data": {
      "application/vnd.jupyter.widget-view+json": {
       "model_id": "f5dd24fb4b5e41aa821a22525d6f30d5",
       "version_major": 2,
       "version_minor": 0
      },
      "text/plain": [
       "HBox(children=(FloatProgress(value=0.0, max=4.0), HTML(value='')))"
      ]
     },
     "metadata": {},
     "output_type": "display_data"
    },
    {
     "data": {
      "application/vnd.jupyter.widget-view+json": {
       "model_id": "",
       "version_major": 2,
       "version_minor": 0
      },
      "text/plain": [
       "HBox(children=(FloatProgress(value=0.0, max=71.0), HTML(value='')))"
      ]
     },
     "metadata": {},
     "output_type": "display_data"
    },
    {
     "data": {
      "application/vnd.jupyter.widget-view+json": {
       "model_id": "",
       "version_major": 2,
       "version_minor": 0
      },
      "text/plain": [
       "HBox(children=(FloatProgress(value=0.0, max=73.0), HTML(value='')))"
      ]
     },
     "metadata": {},
     "output_type": "display_data"
    },
    {
     "data": {
      "application/vnd.jupyter.widget-view+json": {
       "model_id": "",
       "version_major": 2,
       "version_minor": 0
      },
      "text/plain": [
       "HBox(children=(FloatProgress(value=0.0, max=72.0), HTML(value='')))"
      ]
     },
     "metadata": {},
     "output_type": "display_data"
    },
    {
     "data": {
      "application/vnd.jupyter.widget-view+json": {
       "model_id": "",
       "version_major": 2,
       "version_minor": 0
      },
      "text/plain": [
       "HBox(children=(FloatProgress(value=0.0, max=72.0), HTML(value='')))"
      ]
     },
     "metadata": {},
     "output_type": "display_data"
    },
    {
     "name": "stdout",
     "output_type": "stream",
     "text": [
      "\n"
     ]
    }
   ],
   "source": [
    "# create RGB and solar angle animation\n",
    "for idx in tqdm(range(len(eopatches)), total=len(eopatches)):\n",
    "    eop = eopatches[idx]\n",
    "    name = f'loc{idx}'\n",
    "    f = factors[idx]\n",
    "\n",
    "    def plot(idx):\n",
    "        plot_graph(idx, f, name)\n",
    "\n",
    "    os.system('rm -rf graphs && mkdir graphs')\n",
    "    with ProcessPoolExecutor(max_workers=8) as executor:\n",
    "        _ = list(tqdm(executor.map(plot, range(len(eop.timestamp))), total=len(eop.timestamp), leave=False))\n",
    "\n",
    "    with imageio.get_writer(f'figs/graph_{name}.gif', mode='I', duration=4.0/len(eop.timestamp)) as writer:\n",
    "        for i in range(len(eop.timestamp)):\n",
    "            image = imageio.imread(f'graphs/graph_{name}_{i}.png')\n",
    "            writer.append_data(image)"
   ]
  }
 ],
 "metadata": {
  "kernelspec": {
   "display_name": "Python 3",
   "language": "python",
   "name": "python3"
  },
  "language_info": {
   "codemirror_mode": {
    "name": "ipython",
    "version": 3
   },
   "file_extension": ".py",
   "mimetype": "text/x-python",
   "name": "python",
   "nbconvert_exporter": "python",
   "pygments_lexer": "ipython3",
   "version": "3.7.6"
  }
 },
 "nbformat": 4,
 "nbformat_minor": 2
}
