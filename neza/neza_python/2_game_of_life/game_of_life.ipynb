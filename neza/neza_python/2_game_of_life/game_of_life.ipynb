{
 "cells": [
  {
   "cell_type": "code",
   "execution_count": 2,
   "metadata": {},
   "outputs": [],
   "source": [
    "import numpy as np"
   ]
  },
  {
   "cell_type": "code",
   "execution_count": 3,
   "metadata": {},
   "outputs": [],
   "source": [
    "M = 10\n",
    "m = np.zeros((M,M))"
   ]
  },
  {
   "cell_type": "code",
   "execution_count": 4,
   "metadata": {},
   "outputs": [],
   "source": [
    "#m1 = np.ones_like(m)"
   ]
  },
  {
   "cell_type": "code",
   "execution_count": 5,
   "metadata": {},
   "outputs": [],
   "source": [
    "#np.full_like(m, 5)"
   ]
  },
  {
   "cell_type": "code",
   "execution_count": 6,
   "metadata": {
    "scrolled": true
   },
   "outputs": [],
   "source": [
    "m = np.random.randint(0, 2, (M,M))"
   ]
  },
  {
   "cell_type": "code",
   "execution_count": 7,
   "metadata": {},
   "outputs": [],
   "source": [
    "#for i in range(10):\n",
    "#    for j in range(10):\n",
    "#        print(i,j)"
   ]
  },
  {
   "cell_type": "code",
   "execution_count": 8,
   "metadata": {},
   "outputs": [
    {
     "data": {
      "text/plain": [
       "array([[1, 0, 1, 1, 1, 0, 1, 0, 0, 0],\n",
       "       [1, 0, 1, 0, 0, 1, 0, 1, 0, 1],\n",
       "       [0, 1, 0, 1, 1, 1, 1, 1, 1, 1],\n",
       "       [1, 1, 1, 1, 0, 1, 1, 1, 1, 0],\n",
       "       [0, 1, 1, 0, 1, 1, 1, 1, 1, 0],\n",
       "       [1, 0, 0, 1, 1, 0, 0, 1, 1, 1],\n",
       "       [0, 1, 1, 1, 1, 1, 1, 1, 0, 0],\n",
       "       [0, 1, 0, 1, 0, 0, 0, 1, 1, 1],\n",
       "       [1, 1, 0, 0, 0, 1, 1, 0, 0, 0],\n",
       "       [1, 0, 0, 0, 1, 1, 0, 0, 1, 0]])"
      ]
     },
     "execution_count": 8,
     "metadata": {},
     "output_type": "execute_result"
    }
   ],
   "source": [
    "m"
   ]
  },
  {
   "cell_type": "code",
   "execution_count": 22,
   "metadata": {},
   "outputs": [
    {
     "name": "stdout",
     "output_type": "stream",
     "text": [
      "[[0 1 1 1 0 1 0 0 0 0]\n",
      " [0 0 0 0 0 0 0 1 0 1]\n",
      " [1 0 0 0 0 0 0 1 0 1]\n",
      " [1 0 0 0 0 0 0 0 0 1]\n",
      " [0 1 0 0 0 1 0 0 1 0]\n",
      " [0 1 1 0 1 0 0 0 0 1]\n",
      " [0 0 0 1 1 1 0 1 1 1]\n",
      " [0 1 0 0 1 0 0 0 0 1]\n",
      " [0 0 0 1 1 1 0 0 1 1]\n",
      " [0 0 0 1 1 1 1 0 1 0]]\n"
     ]
    }
   ],
   "source": [
    "M = 10\n",
    "m = np.random.randint(0,2,(M,M))\n",
    "ma = m.copy()\n",
    "\n",
    "\n",
    "for i in range(M):\n",
    "    for j in range(M):\n",
    "        if i == 0:\n",
    "            if j == 0:\n",
    "                n = m[i+1, j] + m[i+1, j+1] + m[i, j+1]\n",
    "            elif j == M-1:\n",
    "                n = m[i, j-1] + m[i+1, j-1] + m[i+1, j]\n",
    "            else:\n",
    "                n = m[i+1, j] + m[i+1, j+1] + m[i, j+1] + m[i, j-1] + m[i+1, j-1]\n",
    "                \n",
    "        elif i == M-1:\n",
    "            if j == 0:\n",
    "                n = m[i-1, j] + m[i-1, j+1] + m[i, j+1]\n",
    "            elif j == M-1:\n",
    "                n = m[i-1, j] + m[i-1, j-1] + m[i, j-1]\n",
    "            else:\n",
    "                n = m[i-1, j] + m[i-1, j+1] + m[i, j+1] + m[i-1, j-1] + m[i, j-1]\n",
    "                \n",
    "        elif j == 0:\n",
    "            n = m[i-1,j] + m[i-1, j+1] + m[i, j+1] + m[i+1, j+1] + m[i+1, j]\n",
    "        \n",
    "        elif j == M-1:\n",
    "            n = m[i-1,j] + m[i-1, j-1] + m[i, j-1] + m[i+1, j-1] + m[i+1, j]\n",
    "            \n",
    "        else:\n",
    "            n = m[i-1,j] + m[i-1, j-1] + m[i, j-1] + m[i+1, j-1] + m[i+1, j] + m[i+1, j+1] + m[i, j+1] + m[i-1, j-1]\n",
    "        \n",
    "    \n",
    "        if m[i,j] == 0:\n",
    "            if n == 3:\n",
    "                ma[i,j] = 1\n",
    "        else:\n",
    "            if not (n == 2 or n == 3):\n",
    "                ma[i,j] = 0\n",
    "            \n",
    "print(ma)"
   ]
  },
  {
   "cell_type": "code",
   "execution_count": 23,
   "metadata": {},
   "outputs": [
    {
     "data": {
      "text/plain": [
       "array([[1, 1, 0, 0, 0, 1, 0, 0, 0, 0],\n",
       "       [0, 0, 1, 1, 1, 1, 0, 0, 1, 1],\n",
       "       [1, 1, 1, 1, 1, 1, 0, 1, 1, 1],\n",
       "       [0, 1, 1, 0, 0, 1, 1, 1, 0, 0],\n",
       "       [0, 0, 1, 0, 0, 1, 1, 0, 1, 0],\n",
       "       [1, 0, 0, 1, 0, 0, 1, 0, 0, 1],\n",
       "       [1, 0, 1, 0, 1, 1, 0, 1, 0, 1],\n",
       "       [0, 0, 0, 0, 0, 0, 1, 0, 0, 1],\n",
       "       [0, 0, 1, 0, 1, 1, 0, 1, 1, 0],\n",
       "       [0, 0, 0, 1, 0, 0, 1, 1, 1, 0]])"
      ]
     },
     "execution_count": 23,
     "metadata": {},
     "output_type": "execute_result"
    }
   ],
   "source": [
    "m"
   ]
  },
  {
   "cell_type": "code",
   "execution_count": 24,
   "metadata": {},
   "outputs": [
    {
     "data": {
      "text/plain": [
       "array([[0, 1, 1, 1, 0, 1, 0, 0, 0, 0],\n",
       "       [0, 0, 0, 0, 0, 0, 0, 1, 0, 1],\n",
       "       [1, 0, 0, 0, 0, 0, 0, 1, 0, 1],\n",
       "       [1, 0, 0, 0, 0, 0, 0, 0, 0, 1],\n",
       "       [0, 1, 0, 0, 0, 1, 0, 0, 1, 0],\n",
       "       [0, 1, 1, 0, 1, 0, 0, 0, 0, 1],\n",
       "       [0, 0, 0, 1, 1, 1, 0, 1, 1, 1],\n",
       "       [0, 1, 0, 0, 1, 0, 0, 0, 0, 1],\n",
       "       [0, 0, 0, 1, 1, 1, 0, 0, 1, 1],\n",
       "       [0, 0, 0, 1, 1, 1, 1, 0, 1, 0]])"
      ]
     },
     "execution_count": 24,
     "metadata": {},
     "output_type": "execute_result"
    }
   ],
   "source": [
    "ma"
   ]
  },
  {
   "cell_type": "code",
   "execution_count": 33,
   "metadata": {},
   "outputs": [],
   "source": [
    "def life_step (x):\n",
    "    print(x)"
   ]
  },
  {
   "cell_type": "code",
   "execution_count": 34,
   "metadata": {},
   "outputs": [
    {
     "name": "stdout",
     "output_type": "stream",
     "text": [
      "[[0 1 1 1 0 1 0 0 0 0]\n",
      " [0 0 0 0 0 0 0 1 0 1]\n",
      " [1 0 0 0 0 0 0 1 0 1]\n",
      " [1 0 0 0 0 0 0 0 0 1]\n",
      " [0 1 0 0 0 1 0 0 1 0]\n",
      " [0 1 1 0 1 0 0 0 0 1]\n",
      " [0 0 0 1 1 1 0 1 1 1]\n",
      " [0 1 0 0 1 0 0 0 0 1]\n",
      " [0 0 0 1 1 1 0 0 1 1]\n",
      " [0 0 0 1 1 1 1 0 1 0]]\n"
     ]
    }
   ],
   "source": [
    "life_step(ma)"
   ]
  },
  {
   "cell_type": "code",
   "execution_count": null,
   "metadata": {},
   "outputs": [],
   "source": []
  }
 ],
 "metadata": {
  "kernelspec": {
   "display_name": "Python 3",
   "language": "python",
   "name": "python3"
  },
  "language_info": {
   "codemirror_mode": {
    "name": "ipython",
    "version": 3
   },
   "file_extension": ".py",
   "mimetype": "text/x-python",
   "name": "python",
   "nbconvert_exporter": "python",
   "pygments_lexer": "ipython3",
   "version": "3.7.6"
  }
 },
 "nbformat": 4,
 "nbformat_minor": 4
}
