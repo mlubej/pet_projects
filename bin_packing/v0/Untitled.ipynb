{
 "cells": [
  {
   "cell_type": "code",
   "execution_count": 1,
   "metadata": {},
   "outputs": [
    {
     "ename": "ModuleNotFoundError",
     "evalue": "No module named 'lcms.fe2'",
     "output_type": "error",
     "traceback": [
      "\u001b[0;31m---------------------------------------------------------------------------\u001b[0m",
      "\u001b[0;31mModuleNotFoundError\u001b[0m                       Traceback (most recent call last)",
      "\u001b[0;32m<ipython-input-1-0f578f1bf0b1>\u001b[0m in \u001b[0;36m<module>\u001b[0;34m\u001b[0m\n\u001b[0;32m----> 1\u001b[0;31m \u001b[0;32mfrom\u001b[0m \u001b[0mlcms\u001b[0m\u001b[0;34m.\u001b[0m\u001b[0mfe2\u001b[0m \u001b[0;32mimport\u001b[0m \u001b[0mEOEC2\u001b[0m\u001b[0;34m\u001b[0m\u001b[0;34m\u001b[0m\u001b[0m\n\u001b[0m",
      "\u001b[0;31mModuleNotFoundError\u001b[0m: No module named 'lcms.fe2'"
     ]
    }
   ],
   "source": [
    "from lcms.fe2 import EOEC2"
   ]
  },
  {
   "cell_type": "code",
   "execution_count": null,
   "metadata": {},
   "outputs": [],
   "source": [
    "e = EOEC2('eu-central-1')"
   ]
  },
  {
   "cell_type": "code",
   "execution_count": 3,
   "metadata": {},
   "outputs": [
    {
     "name": "stdout",
     "output_type": "stream",
     "text": [
      "fastec2_aws (i-0b7d62df39d58a978 t2.small stopped): No public IP\n",
      "testinst1 (i-0684f31eee97ebc07 c5.9xlarge running): 18.197.50.208\n",
      "genetic_inst (i-09caa886ab1c897dc t2.small stopped): No public IP\n"
     ]
    }
   ],
   "source": [
    "e.instances()"
   ]
  },
  {
   "cell_type": "code",
   "execution_count": 7,
   "metadata": {},
   "outputs": [
    {
     "name": "stdout",
     "output_type": "stream",
     "text": [
      "cd ~/fun_stuff/puzzle/ ; python main.py 50 test 0 & python main.py 50 test 1 & \n"
     ]
    }
   ],
   "source": [
    "def command(inst, n=35):\n",
    "    cmd  = f'cd ~/fun_stuff/puzzle/ ; '\n",
    "    for i in range(n):\n",
    "        cmd += f'python main.py 50 {inst} {i} & '\n",
    "    return cmd\n",
    "\n",
    "\n",
    "print(command('test', 2))\n",
    "\n",
    "def launch(inst_name, njobs=35):\n",
    "    cmd = command(inst_name, njobs)\n",
    "    e.lcms_spot_command(\n",
    "        command=cmd,\n",
    "        inst=(inst_name, 50, 'c5.9xlarge'),\n",
    "        ami='ami_gen',\n",
    "        keyfile='/home/mlubej/.globus/default.pem',\n",
    "        terminate=False,\n",
    "        spot=False\n",
    "    )"
   ]
  },
  {
   "cell_type": "code",
   "execution_count": 8,
   "metadata": {},
   "outputs": [],
   "source": [
    "from concurrent.futures import ProcessPoolExecutor"
   ]
  },
  {
   "cell_type": "code",
   "execution_count": 2,
   "metadata": {},
   "outputs": [],
   "source": [
    "def command(inst, n=35):\n",
    "    cmd  = f'cd ~/fun_stuff/puzzle/ ; '\n",
    "    for i in range(n):\n",
    "        cmd += f'python main.py 50 {inst} {i} & '\n",
    "    return cmd"
   ]
  },
  {
   "cell_type": "code",
   "execution_count": 8,
   "metadata": {},
   "outputs": [
    {
     "data": {
      "text/plain": [
       "'cd ~/fun_stuff/puzzle/ ; python main.py 50 gen2 0 & python main.py 50 gen2 1 & python main.py 50 gen2 2 & python main.py 50 gen2 3 & python main.py 50 gen2 4 & python main.py 50 gen2 5 & python main.py 50 gen2 6 & python main.py 50 gen2 7 & python main.py 50 gen2 8 & python main.py 50 gen2 9 & python main.py 50 gen2 10 & python main.py 50 gen2 11 & python main.py 50 gen2 12 & python main.py 50 gen2 13 & python main.py 50 gen2 14 & python main.py 50 gen2 15 & python main.py 50 gen2 16 & python main.py 50 gen2 17 & python main.py 50 gen2 18 & python main.py 50 gen2 19 & python main.py 50 gen2 20 & python main.py 50 gen2 21 & python main.py 50 gen2 22 & python main.py 50 gen2 23 & python main.py 50 gen2 24 & python main.py 50 gen2 25 & python main.py 50 gen2 26 & python main.py 50 gen2 27 & python main.py 50 gen2 28 & python main.py 50 gen2 29 & python main.py 50 gen2 30 & python main.py 50 gen2 31 & python main.py 50 gen2 32 & python main.py 50 gen2 33 & python main.py 50 gen2 34 & python main.py 50 gen2 35 & python main.py 50 gen2 36 & python main.py 50 gen2 37 & python main.py 50 gen2 38 & python main.py 50 gen2 39 & python main.py 50 gen2 40 & python main.py 50 gen2 41 & python main.py 50 gen2 42 & python main.py 50 gen2 43 & python main.py 50 gen2 44 & python main.py 50 gen2 45 & python main.py 50 gen2 46 & python main.py 50 gen2 47 & python main.py 50 gen2 48 & python main.py 50 gen2 49 & python main.py 50 gen2 50 & python main.py 50 gen2 51 & python main.py 50 gen2 52 & python main.py 50 gen2 53 & python main.py 50 gen2 54 & python main.py 50 gen2 55 & python main.py 50 gen2 56 & python main.py 50 gen2 57 & python main.py 50 gen2 58 & python main.py 50 gen2 59 & python main.py 50 gen2 60 & python main.py 50 gen2 61 & python main.py 50 gen2 62 & python main.py 50 gen2 63 & python main.py 50 gen2 64 & python main.py 50 gen2 65 & python main.py 50 gen2 66 & python main.py 50 gen2 67 & python main.py 50 gen2 68 & python main.py 50 gen2 69 & python main.py 50 gen2 70 & python main.py 50 gen2 71 & '"
      ]
     },
     "execution_count": 8,
     "metadata": {},
     "output_type": "execute_result"
    }
   ],
   "source": [
    "command('gen2', n = 72)"
   ]
  },
  {
   "cell_type": "code",
   "execution_count": null,
   "metadata": {},
   "outputs": [],
   "source": []
  }
 ],
 "metadata": {
  "kernelspec": {
   "display_name": "Python 3",
   "language": "python",
   "name": "python3"
  },
  "language_info": {
   "codemirror_mode": {
    "name": "ipython",
    "version": 3
   },
   "file_extension": ".py",
   "mimetype": "text/x-python",
   "name": "python",
   "nbconvert_exporter": "python",
   "pygments_lexer": "ipython3",
   "version": "3.6.8"
  }
 },
 "nbformat": 4,
 "nbformat_minor": 2
}
