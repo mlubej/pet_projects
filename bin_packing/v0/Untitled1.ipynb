{
 "cells": [
  {
   "cell_type": "code",
   "execution_count": 1,
   "metadata": {},
   "outputs": [
    {
     "data": {
      "text/plain": [
       "array([['459,50,178,120,382,198,390,18,159,303,345,277,363', 2],\n",
       "       ['133,23,511,91,346,314,460,403,61,212,238,363,144', 2],\n",
       "       ['35,417,349,110,22,195,508,404,449,296,165,255,3', 2],\n",
       "       ...,\n",
       "       ['362,255,184,92,222,178,435,277,13,368,391,401,53', 42],\n",
       "       ['77,380,122,504,348,23,475,202,449,427,230,287,78', 42],\n",
       "       ['274,218,474,345,150,44,256,99,398,15,252,125,305', 43]],\n",
       "      dtype=object)"
      ]
     },
     "execution_count": 1,
     "metadata": {},
     "output_type": "execute_result"
    }
   ],
   "source": [
    "from urllib.request import urlopen\n",
    "import re\n",
    "import numpy as np\n",
    "\n",
    "from tqdm.auto import tqdm\n",
    "\n",
    "array = [f'https://genetic-solve.s3.eu-central-1.amazonaws.com/log_file_pop50_gen{x}_{y}.txt' for x in [1,2] for y in range(72)]\n",
    "\n",
    "info = []\n",
    "\n",
    "for link in array:\n",
    "    f = urlopen(link)\n",
    "    myfile = f.read().decode('utf-8')\n",
    "    info.extend(np.array(re.findall(\"Chromosome: ([0-9,]+)\\tFitness: ([0-9]+)\", myfile)))\n",
    "    \n",
    "info = np.array(info, dtype=object)\n",
    "info[:,1] = np.array(info[:,1], dtype=int)\n",
    "\n",
    "info[np.argsort(info[:,1])]"
   ]
  },
  {
   "cell_type": "code",
   "execution_count": null,
   "metadata": {},
   "outputs": [],
   "source": []
  }
 ],
 "metadata": {
  "kernelspec": {
   "display_name": "Python 3",
   "language": "python",
   "name": "python3"
  },
  "language_info": {
   "codemirror_mode": {
    "name": "ipython",
    "version": 3
   },
   "file_extension": ".py",
   "mimetype": "text/x-python",
   "name": "python",
   "nbconvert_exporter": "python",
   "pygments_lexer": "ipython3",
   "version": "3.6.8"
  }
 },
 "nbformat": 4,
 "nbformat_minor": 2
}
