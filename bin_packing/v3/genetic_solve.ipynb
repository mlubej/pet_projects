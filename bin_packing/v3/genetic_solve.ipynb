{
 "cells": [
  {
   "cell_type": "code",
   "execution_count": 1,
   "metadata": {},
   "outputs": [],
   "source": [
    "import sys\n",
    "import genlib"
   ]
  },
  {
   "cell_type": "code",
   "execution_count": 19,
   "metadata": {},
   "outputs": [],
   "source": [
    "evo = genlib.Evolution(npop=50, npcs=13)"
   ]
  },
  {
   "cell_type": "code",
   "execution_count": null,
   "metadata": {},
   "outputs": [
    {
     "name": "stdout",
     "output_type": "stream",
     "text": [
      "Initializing\n"
     ]
    },
    {
     "name": "stderr",
     "output_type": "stream",
     "text": [
      "/home/mlubej/.pyenv/versions/3.7.6/envs/play/lib/python3.7/site-packages/shapely/affinity.py:108: FutureWarning: elementwise comparison failed; returning scalar instead, but in the future will perform elementwise comparison\n",
      "  if origin == 'center':\n",
      "/home/mlubej/.pyenv/versions/3.7.6/envs/play/lib/python3.7/site-packages/shapely/affinity.py:112: FutureWarning: elementwise comparison failed; returning scalar instead, but in the future will perform elementwise comparison\n",
      "  elif origin == 'centroid':\n"
     ]
    },
    {
     "name": "stdout",
     "output_type": "stream",
     "text": [
      "Generation: 0, best candidate score: 67.0, chromosome: [1,5,3,9,7,4,12,0,10,11,8,6,2]\n",
      "Creating next generation\n"
     ]
    },
    {
     "name": "stderr",
     "output_type": "stream",
     "text": [
      "/home/mlubej/.pyenv/versions/3.7.6/envs/play/lib/python3.7/site-packages/shapely/affinity.py:108: FutureWarning: elementwise comparison failed; returning scalar instead, but in the future will perform elementwise comparison\n",
      "  if origin == 'center':\n",
      "/home/mlubej/.pyenv/versions/3.7.6/envs/play/lib/python3.7/site-packages/shapely/affinity.py:112: FutureWarning: elementwise comparison failed; returning scalar instead, but in the future will perform elementwise comparison\n",
      "  elif origin == 'centroid':\n"
     ]
    },
    {
     "name": "stdout",
     "output_type": "stream",
     "text": [
      "Creating next generation\n",
      "Creating next generation\n",
      "Creating next generation\n",
      "Creating next generation\n",
      "Creating next generation\n",
      "Generation: 6, best candidate score: 56.0, chromosome: [6,0,2,9,3,8,5,10,7,1,12,11,4]\n",
      "Creating next generation\n"
     ]
    },
    {
     "name": "stderr",
     "output_type": "stream",
     "text": [
      "/home/mlubej/.pyenv/versions/3.7.6/envs/play/lib/python3.7/site-packages/shapely/affinity.py:108: FutureWarning: elementwise comparison failed; returning scalar instead, but in the future will perform elementwise comparison\n",
      "  if origin == 'center':\n",
      "/home/mlubej/.pyenv/versions/3.7.6/envs/play/lib/python3.7/site-packages/shapely/affinity.py:112: FutureWarning: elementwise comparison failed; returning scalar instead, but in the future will perform elementwise comparison\n",
      "  elif origin == 'centroid':\n"
     ]
    },
    {
     "name": "stdout",
     "output_type": "stream",
     "text": [
      "Creating next generation\n",
      "Creating next generation\n",
      "Creating next generation\n",
      "Creating next generation\n",
      "Creating next generation\n",
      "Creating next generation\n",
      "Creating next generation\n"
     ]
    }
   ],
   "source": [
    "evo.darwinize()"
   ]
  }
 ],
 "metadata": {
  "kernelspec": {
   "display_name": "Python 3",
   "language": "python",
   "name": "python3"
  },
  "language_info": {
   "codemirror_mode": {
    "name": "ipython",
    "version": 3
   },
   "file_extension": ".py",
   "mimetype": "text/x-python",
   "name": "python",
   "nbconvert_exporter": "python",
   "pygments_lexer": "ipython3",
   "version": "3.7.6"
  }
 },
 "nbformat": 4,
 "nbformat_minor": 2
}
