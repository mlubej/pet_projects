{
 "cells": [
  {
   "cell_type": "code",
   "execution_count": 1,
   "metadata": {},
   "outputs": [],
   "source": [
    "import numpy as np\n",
    "import matplotlib.pyplot as plt\n",
    "\n",
    "import itertools\n",
    "import time\n",
    "import os\n",
    "\n",
    "import glob\n",
    "\n",
    "from IPython.display import clear_output, display\n",
    "\n",
    "from tqdm.auto import tqdm\n",
    "\n",
    "from concurrent.futures import ProcessPoolExecutor, ThreadPoolExecutor\n",
    "\n",
    "from shapely.geometry import Polygon, MultiPolygon, Point\n",
    "from shapely.ops import unary_union\n",
    "from shapely.affinity import translate, rotate, scale\n",
    "\n",
    "import geopandas as gpd\n",
    "\n",
    "from scipy.interpolate import interp1d\n",
    "\n",
    "import pickle"
   ]
  },
  {
   "cell_type": "code",
   "execution_count": 2,
   "metadata": {},
   "outputs": [],
   "source": [
    "polygons = []\n",
    "def input_polygon():\n",
    "    pts = [np.array([0,0])]\n",
    "    direction = 1\n",
    "    idx = 0\n",
    "    while True:\n",
    "        iin = input()\n",
    "        if iin == '':\n",
    "            return Polygon(pts)\n",
    "        x = int(iin)\n",
    "        pts.append(pts[idx]+np.array([x,0]) if direction == 1 else pts[idx]+np.array([0,x]))\n",
    "        direction = 0 if direction == 1 else 1\n",
    "        idx += 1"
   ]
  },
  {
   "cell_type": "code",
   "execution_count": null,
   "metadata": {},
   "outputs": [],
   "source": [
    "p = input_polygon()\n",
    "polygons.append(p)\n",
    "p"
   ]
  },
  {
   "cell_type": "code",
   "execution_count": null,
   "metadata": {},
   "outputs": [],
   "source": [
    "polygons = np.array(polygons)\n",
    "pickle.dump(polygons, open('polygons.pkl', 'wb'))"
   ]
  }
 ],
 "metadata": {
  "kernelspec": {
   "display_name": "Python 3",
   "language": "python",
   "name": "python3"
  },
  "language_info": {
   "codemirror_mode": {
    "name": "ipython",
    "version": 3
   },
   "file_extension": ".py",
   "mimetype": "text/x-python",
   "name": "python",
   "nbconvert_exporter": "python",
   "pygments_lexer": "ipython3",
   "version": "3.7.6"
  }
 },
 "nbformat": 4,
 "nbformat_minor": 4
}
