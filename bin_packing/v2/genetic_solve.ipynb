{
 "cells": [
  {
   "cell_type": "code",
   "execution_count": 1,
   "metadata": {},
   "outputs": [],
   "source": [
    "import sys\n",
    "import genlib"
   ]
  },
  {
   "cell_type": "code",
   "execution_count": 2,
   "metadata": {},
   "outputs": [],
   "source": [
    "#npop = 50\n",
    "#evo = genlib.Evolution(npop, npcs=13, mut_threshold=0.01, instance=0)\n",
    "#evo.darwinize()"
   ]
  },
  {
   "cell_type": "markdown",
   "metadata": {},
   "source": [
    "- check rotation, mirroring\n",
    "- add checkers"
   ]
  },
  {
   "cell_type": "code",
   "execution_count": null,
   "metadata": {
    "scrolled": false
   },
   "outputs": [
    {
     "name": "stderr",
     "output_type": "stream",
     "text": [
      "Exception ignored in: <function BaseGeometry.__del__ at 0x7f26b6f620e0>\n",
      "Traceback (most recent call last):\n",
      "  File \"/home/mlubej/.pyenv/versions/3.7.6/envs/play/lib/python3.7/site-packages/shapely/geometry/base.py\", line 239, in __del__\n",
      "    def __del__(self):\n",
      "KeyboardInterrupt\n"
     ]
    }
   ],
   "source": [
    "while True:\n",
    "    ind = genlib.Individual([12,0,10,9,6,8,3,5,7,2,1,11,4])\n",
    "    if ind.fitness == 0:\n",
    "        print(ind.placements)\n",
    "        break"
   ]
  },
  {
   "cell_type": "code",
   "execution_count": null,
   "metadata": {},
   "outputs": [],
   "source": [
    "def opt_placement(profile, poly):\n",
    "    mask = np.array([pt.within(profile) for pt in pt_grid], dtype=bool)\n",
    "\n",
    "    rflips = get_unique_rflips(poly)\n",
    "    pos = pos_grid[mask]\n",
    "\n",
    "    iterables = [pos, rflips]\n",
    "    settings = np.array(list(itertools.product(*iterables)))\n",
    "    settings = np.array([[s[0], *s[1]] for s in settings]) \n",
    "    \n",
    "    scores, profiles = np.array([calc_score(profile, poly, s) for s in settings]).T\n",
    "    opt_id = np.argsort(scores)\n",
    "    return settings[opt_id], profiles[opt_id]"
   ]
  },
  {
   "cell_type": "code",
   "execution_count": null,
   "metadata": {},
   "outputs": [],
   "source": []
  }
 ],
 "metadata": {
  "kernelspec": {
   "display_name": "Python 3",
   "language": "python",
   "name": "python3"
  },
  "language_info": {
   "codemirror_mode": {
    "name": "ipython",
    "version": 3
   },
   "file_extension": ".py",
   "mimetype": "text/x-python",
   "name": "python",
   "nbconvert_exporter": "python",
   "pygments_lexer": "ipython3",
   "version": "3.7.6"
  }
 },
 "nbformat": 4,
 "nbformat_minor": 2
}
