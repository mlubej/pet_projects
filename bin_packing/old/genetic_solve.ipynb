{
 "cells": [
  {
   "cell_type": "code",
   "execution_count": 1,
   "metadata": {},
   "outputs": [],
   "source": [
    "import numpy as np\n",
    "import matplotlib.pyplot as plt\n",
    "\n",
    "import itertools\n",
    "import time\n",
    "import os\n",
    "\n",
    "import glob\n",
    "\n",
    "from natsort import natsorted\n",
    "from IPython.display import clear_output, display\n",
    "\n",
    "from tqdm.auto import tqdm\n",
    "\n",
    "from concurrent.futures import ProcessPoolExecutor, ThreadPoolExecutor"
   ]
  },
  {
   "cell_type": "code",
   "execution_count": 2,
   "metadata": {},
   "outputs": [],
   "source": [
    "fblocks = np.array([\n",
    "    [(0,0,0),(1,0,1),(2,0,0),(3,0,1),(4,0,0)],\n",
    "    [(0,0,0),(1,0,1),(2,0,0),(2,-1,1),(1,1,0)],\n",
    "    [(0,0,0),(1,0,1),(2,0,0),(0,1,1),(2,-1,1)],\n",
    "    [(0,0,0),(1,0,1),(2,0,0),(-1,0,1),(0,-1,1)],\n",
    "    [(0,0,0),(-1,0,1),(1,0,1),(0,1,1),(0,-1,1)],\n",
    "    [(0,0,1),(1,0,0),(2,0,1),(0,1,0),(0,-1,0)],\n",
    "    [(0,0,0),(1,0,1),(2,0,0),(3,0,1),(0,1,1)],\n",
    "    [(0,0,0),(0,1,1),(2,0,0),(2,1,1),(1,1,0)],\n",
    "    [(0,0,1),(1,0,0),(2,0,1),(0,1,0),(0,2,1)],\n",
    "    [(0,0,1),(-1,0,0),(0,1,0),(1,1,1),(2,1,0)],\n",
    "    [(0,0,0),(1,0,1),(0,1,1),(1,1,0),(-1,1,0)],\n",
    "    [(0,0,0),(1,0,1),(0,1,1),(1,1,0)],\n",
    "    [(0,0,0),(1,1,0),(2,2,0),(0,1,1),(1,2,1)]\n",
    "])\n",
    "\n",
    "\n",
    "board_size = 8\n",
    "\n",
    "#fblocks = np.array([\n",
    "#    [(0,0,0)],\n",
    "#    [(0,0,0),(-1,0,1),(0,-1,1)],\n",
    "#    [(0,0,0),(0,1,1),(0,2,0),(0,3,1)],\n",
    "#    [(0,0,0),(-1,0,1),(0,-1,1),(0,-2,0)],\n",
    "#    [(0,0,1),(-1,0,0),(0,-1,0),(0,-2,1)],\n",
    "#    [(0,0,0),(0,1,1),(0,2,0),(0,3,1)],\n",
    "#    [(0,0,0),(0,1,1),(0,2,0)],\n",
    "#    [(0,0,1),(0,1,0)]\n",
    "#])\n",
    "#\n",
    "#board_size = 5\n",
    "\n",
    "blocks = []\n",
    "for block in fblocks:\n",
    "    blocks.append(np.array(block))\n",
    "fblocks = np.array(blocks).copy()\n",
    "\n",
    "dcol = np.random.rand(len(fblocks),3)"
   ]
  },
  {
   "cell_type": "code",
   "execution_count": 3,
   "metadata": {},
   "outputs": [],
   "source": [
    "def rotation(block, rot=0):\n",
    "    block = block.copy()\n",
    "    rblock = block[...,:-1]\n",
    "    if rot==0:\n",
    "        rblock = np.array(list(map(lambda x : [x[0],x[1]], rblock)))\n",
    "    elif rot==1:\n",
    "        rblock = np.array(list(map(lambda x : [x[1],-x[0]], rblock)))\n",
    "    elif rot==2:\n",
    "        rblock = np.array(list(map(lambda x : [-x[0],-x[1]], rblock)))\n",
    "    else:\n",
    "        rblock = np.array(list(map(lambda x : [-x[1],x[0]], rblock)))\n",
    "    block[...,:-1] = rblock\n",
    "    return block\n",
    "\n",
    "def translation(block, vector):\n",
    "    block = block.copy()\n",
    "    rblock = block[...,:-1]\n",
    "    rblock = np.array(list(map(lambda x : x + vector, rblock)))\n",
    "    block[...,:-1] = rblock\n",
    "    return block\n",
    "\n",
    "def mirroring(block, mirror):\n",
    "    block = block.copy()\n",
    "    rblock = block[...,:-1]\n",
    "    if mirror:\n",
    "        rblock = np.array(list(map(lambda x : [-x[0],x[1]], rblock)))\n",
    "    block[...,:-1] = rblock\n",
    "    return block"
   ]
  },
  {
   "cell_type": "code",
   "execution_count": 4,
   "metadata": {},
   "outputs": [],
   "source": [
    "def move_block(block, setting):\n",
    "    block = mirroring(block,setting[-1])\n",
    "    block = rotation(block,setting[-2])\n",
    "    block = translation(block,setting[:-2])\n",
    "    return block\n",
    "\n",
    "def move_blocks(gnome):\n",
    "    return np.array([move_block(block, all_combs[gene]) for block, gene in zip(fblocks, gnome)])\n",
    "\n",
    "def plot_block(block, setting = [0,0,0,0], *args, **kwargs):\n",
    "    block = move_block(block, setting)\n",
    "    mask = block[...,-1] == 0\n",
    "    plt.plot(block[mask,0], block[mask,1], marker='s', fillstyle='top', linewidth=0, *args, **kwargs)\n",
    "    plt.plot(block[~mask,0], block[~mask,1], marker='s', fillstyle='bottom', linewidth=0, *args, **kwargs)\n",
    "    \n",
    "def plot_blocks(blocks, settings = None, filename = None, *args, **kwargs):\n",
    "    fig = plt.figure(figsize=(10,10))\n",
    "    edges = np.array([[0,0], [0,board_size-1], [board_size-1,board_size-1], [board_size-1,0], [0,0]])\n",
    "    plt.plot(edges[:,0], edges[:,1], color='r')\n",
    "    for idx,block in enumerate(blocks):\n",
    "        setting = [0,0,0,0] if settings is None else settings[idx]\n",
    "        plot_block(block, setting, markersize=40, color = dcol[idx])\n",
    "    plt.xlim(-1, board_size)\n",
    "    plt.ylim(-1, board_size)\n",
    "    \n",
    "    if filename is not None:\n",
    "        plt.savefig(f'images/{filename}', bbox_inches='tight', dpi=100)\n",
    "        plt.close(fig)"
   ]
  },
  {
   "cell_type": "code",
   "execution_count": 5,
   "metadata": {},
   "outputs": [
    {
     "data": {
      "image/png": "[encoded data removed]",
      "text/plain": [
       "<Figure size 720x720 with 1 Axes>"
      ]
     },
     "metadata": {
      "needs_background": "light"
     },
     "output_type": "display_data"
    }
   ],
   "source": [
    "vecs = [np.random.randint(-1,board_size,2) for i in range(len(fblocks))]\n",
    "rots = [np.random.randint(0,4) for i in range(len(fblocks))]\n",
    "mirrs = [np.random.randint(0,1) for i in range(len(fblocks))]\n",
    "\n",
    "settings = [(*vec, rot, mirr) for vec,rot,mirr in zip(vecs,rots,mirrs)]\n",
    "\n",
    "plot_blocks(fblocks, settings)"
   ]
  },
  {
   "cell_type": "code",
   "execution_count": 7,
   "metadata": {},
   "outputs": [],
   "source": [
    "# brute force it\n",
    "brute_positions_x = np.array(list(range(board_size)))\n",
    "brute_positions_y = brute_positions_x\n",
    "brute_rotations = np.array(list(range(4)))\n",
    "brute_mirrors = np.array(list(range(2)))\n",
    "\n",
    "iterables = [brute_positions_x, brute_positions_y, brute_rotations, brute_mirrors]\n",
    "\n",
    "all_combs = np.array(list(itertools.product(*iterables)))"
   ]
  },
  {
   "cell_type": "code",
   "execution_count": 8,
   "metadata": {},
   "outputs": [],
   "source": [
    "def board_count(blocks):\n",
    "    rblocks = np.array([block[...,:-1] for block in blocks])\n",
    "    flats = np.concatenate(rblocks, axis=0)\n",
    "    \n",
    "    edges = [any(coord < 0 for coord in block) or any(coord >= board_size for coord in block) for block in flats]\n",
    "    return np.count_nonzero(edges)\n",
    "    \n",
    "\n",
    "def duplication_count(blocks):\n",
    "    rblocks = np.array([block[...,:-1] for block in blocks])\n",
    "    flats = np.concatenate(rblocks)\n",
    "    mat = np.zeros((board_size, board_size))\n",
    "    for pos in flats:\n",
    "        x, y = pos\n",
    "        if x < 0 or x >= board_size or y < 0 or y >= board_size:\n",
    "            continue\n",
    "        mat[pos[0]][pos[1]] += 1\n",
    "        \n",
    "    nflats = mat.ravel()\n",
    "    dcount = 0\n",
    "    for n in nflats:\n",
    "        if n > 1:\n",
    "            dcount += n\n",
    "            \n",
    "    return int(dcount)\n",
    "\n",
    "def single_check(case):\n",
    "        if np.sum(case[:-1]) % 2 != case[-1]:\n",
    "            return False\n",
    "        return True\n",
    "\n",
    "def fillstyle_count(blocks):\n",
    "    flats = np.concatenate(blocks, axis=0)\n",
    "    dcount = 0\n",
    "    for case in flats:\n",
    "        if not single_check(case):\n",
    "            dcount += 1\n",
    "    return dcount\n",
    "\n",
    "def fitness_function(blocks):\n",
    "    return board_count(blocks) + duplication_count(blocks) + fillstyle_count(blocks)"
   ]
  },
  {
   "cell_type": "code",
   "execution_count": 9,
   "metadata": {},
   "outputs": [
    {
     "data": {
      "image/png": "[encoded data removed]",
      "text/plain": [
       "<Figure size 720x720 with 1 Axes>"
      ]
     },
     "metadata": {
      "needs_background": "light"
     },
     "output_type": "display_data"
    }
   ],
   "source": [
    "plot_blocks(fblocks)"
   ]
  },
  {
   "cell_type": "code",
   "execution_count": 10,
   "metadata": {},
   "outputs": [],
   "source": [
    "# Number of individuals in each generation \n",
    "NPOP = 50\n",
    "NGENES = len(all_combs)\n",
    "NGNOMES = len(fblocks)\n",
    "\n",
    "class Individual(object): \n",
    "    ''' \n",
    "    Class representing individual in population \n",
    "    '''\n",
    "    def __init__(self, chromosome): \n",
    "        self.chromosome = np.array(chromosome)\n",
    "        self.fitness = self.cal_fitness() \n",
    "\n",
    "    @classmethod\n",
    "    def mutated_genes(self): \n",
    "        ''' \n",
    "        create random genes for mutation \n",
    "        '''\n",
    "        return np.random.randint(0,NGENES)\n",
    "\n",
    "    @classmethod\n",
    "    def create_gnome(self): \n",
    "        ''' \n",
    "        create chromosome or string of genes \n",
    "        '''\n",
    "        return np.random.randint(0, NGENES, NGNOMES)\n",
    "    \n",
    "    @staticmethod\n",
    "    def swap_genes(chromosome, pair_swap):\n",
    "        '''\n",
    "        switch two genes in the chromosome\n",
    "        '''\n",
    "        gnome = chromosome.copy()\n",
    "        gnome[pair_swap] = gnome[np.flip(pair_swap)]\n",
    "        return gnome        \n",
    "\n",
    "    def mate(self, par2): \n",
    "        ''' \n",
    "        Perform mating and produce new offspring \n",
    "        '''\n",
    "        # chromosome for offspring \n",
    "        child_chromosome = []\n",
    "        prob = np.random.rand(len(fblocks))\n",
    "        for g1, g2, p in zip(self.chromosome, par2.chromosome, prob): \n",
    "            if p < 0.45:\n",
    "                child_chromosome.append(g1)\n",
    "            elif p < 0.9:\n",
    "                child_chromosome.append(g2)\n",
    "            else:\n",
    "                child_chromosome.append(self.mutated_genes())\n",
    "        child_chromosome = np.array(child_chromosome)\n",
    "                \n",
    "        # do random swap of genes\n",
    "        for _ in range(int(np.random.exponential(2))):\n",
    "            swap_pair = np.random.randint(0, len(fblocks), 2)\n",
    "            child_chromosome = self.swap_genes(child_chromosome, swap_pair)\n",
    "\n",
    "        # create new Individual(offspring) using \n",
    "        # generated chromosome for offspring \n",
    "        return Individual(child_chromosome) \n",
    "\n",
    "    def cal_fitness(self): \n",
    "        ''' \n",
    "        Calculate fittness score, it is the number of \n",
    "        characters in string which differ from target \n",
    "        string. \n",
    "        '''\n",
    "        blocks = move_blocks(self.chromosome)\n",
    "        return fitness_function(blocks)"
   ]
  },
  {
   "cell_type": "code",
   "execution_count": 10,
   "metadata": {},
   "outputs": [],
   "source": [
    "# Driver code \n",
    "def main():\n",
    "\n",
    "    #current generation \n",
    "    generation = 1\n",
    "\n",
    "    found = False\n",
    "    population = [Individual(Individual.create_gnome()) for i in range(int(NPOP))]\n",
    "\n",
    "    while not found: \n",
    "        population = sorted(population, key = lambda x:x.fitness) \n",
    "\n",
    "        # if the individual having lowest fitness score ie. \n",
    "        # 0 then we know that we have reached to the target \n",
    "        # and break the loop \n",
    "        if population[0].fitness <= 0: \n",
    "            found = True\n",
    "            break\n",
    "\n",
    "        # Otherwise generate new offsprings for new generation \n",
    "        new_generation = [] \n",
    "\n",
    "        # Perform Elitism, that mean 10% of fittest population \n",
    "        # goes to the next generation \n",
    "        s1, s2, s3 = int(0.1*NPOP), int(0.5*NPOP), int(0.4*NPOP) \n",
    "        new_generation.extend(population[:s1]) \n",
    "\n",
    "        for _ in range(s2): \n",
    "            parent1 = np.random.choice(population[:int(0.5*NPOP)]) \n",
    "            parent2 = np.random.choice(population[:int(0.5*NPOP)]) \n",
    "            child = parent1.mate(parent2) \n",
    "            new_generation.append(child) \n",
    "            \n",
    "        new_generation.extend([Individual(Individual.create_gnome()) for i in range(s3)])\n",
    "        population = new_generation \n",
    "\n",
    "        if generation % 10 == 0:\n",
    "            print(\"Generation: {}\\tChromosome: {}\\tFitness: {}\".format(generation, ','.join([str(x) for x in population[0].chromosome]), population[0].fitness), flush=True) \n",
    "\n",
    "        generation += 1\n",
    "    return population[0]"
   ]
  },
  {
   "cell_type": "raw",
   "metadata": {},
   "source": [
    "result = main()"
   ]
  },
  {
   "cell_type": "code",
   "execution_count": 17,
   "metadata": {},
   "outputs": [],
   "source": [
    "res = Individual([6,91,334,133,232,499,378,176,454,211,419,48,72])\n",
    "res = Individual([459,50,178,120,382,198,390,18,159,303,345,277,363])\n",
    "res = Individual([133,23,511,91,346,314,460,403,61,212,238,363,144])\n",
    "res = Individual([35,417,349,110,22,195,508,404,449,296,165,255,3])"
   ]
  },
  {
   "cell_type": "code",
   "execution_count": 18,
   "metadata": {},
   "outputs": [
    {
     "data": {
      "text/plain": [
       "2"
      ]
     },
     "execution_count": 18,
     "metadata": {},
     "output_type": "execute_result"
    }
   ],
   "source": [
    "res.fitness"
   ]
  },
  {
   "cell_type": "code",
   "execution_count": 19,
   "metadata": {},
   "outputs": [
    {
     "data": {
      "image/png": "[encoded data removed]",
      "text/plain": [
       "<Figure size 720x720 with 1 Axes>"
      ]
     },
     "metadata": {
      "needs_background": "light"
     },
     "output_type": "display_data"
    }
   ],
   "source": [
    "#plot_blocks(move_blocks(result[0].chromosome))\n",
    "plot_blocks(move_blocks(res.chromosome))"
   ]
  },
  {
   "cell_type": "code",
   "execution_count": null,
   "metadata": {},
   "outputs": [],
   "source": []
  },
  {
   "cell_type": "code",
   "execution_count": null,
   "metadata": {},
   "outputs": [],
   "source": []
  }
 ],
 "metadata": {
  "kernelspec": {
   "display_name": "Python 3",
   "language": "python",
   "name": "python3"
  },
  "language_info": {
   "codemirror_mode": {
    "name": "ipython",
    "version": 3
   },
   "file_extension": ".py",
   "mimetype": "text/x-python",
   "name": "python",
   "nbconvert_exporter": "python",
   "pygments_lexer": "ipython3",
   "version": "3.6.8"
  }
 },
 "nbformat": 4,
 "nbformat_minor": 2
}
